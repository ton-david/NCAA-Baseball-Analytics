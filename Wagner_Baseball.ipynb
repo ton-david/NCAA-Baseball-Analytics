{
  "nbformat": 4,
  "nbformat_minor": 0,
  "metadata": {
    "colab": {
      "provenance": [],
      "authorship_tag": "ABX9TyPqtaNQJitYACveUwT1NSMK",
      "include_colab_link": true
    },
    "kernelspec": {
      "name": "python3",
      "display_name": "Python 3"
    },
    "language_info": {
      "name": "python"
    }
  },
  "cells": [
    {
      "cell_type": "markdown",
      "metadata": {
        "id": "view-in-github",
        "colab_type": "text"
      },
      "source": [
        "<a href=\"https://colab.research.google.com/github/ton-david/NCAA-Baseball-Analytics/blob/main/Wagner_Baseball.ipynb\" target=\"_parent\"><img src=\"https://colab.research.google.com/assets/colab-badge.svg\" alt=\"Open In Colab\"/></a>"
      ]
    },
    {
      "cell_type": "code",
      "source": [
        "# This project webscrapes data from https://wagnerathletics.com/sports/baseball/stats/2019 for exploratory data analysis and supervised machine learning\n",
        "# - Purpose: Analyze Wagner College Baseball-2019 data for patterns and correlations\n",
        "#            Provide team with in-depth insights to increase probability of winning\n",
        "#            Use predictive analytics to forecast team's performance\n",
        "# - Machine Learning models: Linear Regression, Logistic Regression\n",
        "# - Data: Batting & pitching statistics from all 51 games of the 2019 season\n",
        "# Sections:\n",
        "# 1. Predicting Runs Allowed from Hits given up (Linear Regression Model)\n",
        "# 2. Predicting Runs Scored from Hits (Linear Regression Model)\n",
        "# 3. Win Percentage vs. Strikeouts per Game\n",
        "# 4. Probability of Winning based on Number of Hits (Logistic Regression Model)\n",
        "# 5. Probability of Winning if there is >= 1 Homerun (Logistic Regression Model)"
      ],
      "metadata": {
        "id": "83378VLUYIxQ"
      },
      "execution_count": 1,
      "outputs": []
    },
    {
      "cell_type": "code",
      "source": [
        "import pandas as pd\n",
        "import numpy as np\n",
        "import requests as r\n",
        "import matplotlib.pyplot as plt \n",
        "from bs4 import BeautifulSoup\n",
        "from sklearn.linear_model import LinearRegression\n",
        "from sklearn.linear_model import LogisticRegression\n",
        "from sklearn.model_selection import train_test_split\n",
        "from sklearn import metrics\n",
        "from sklearn.metrics import r2_score\n",
        "from sklearn.metrics import confusion_matrix\n",
        "from sklearn.metrics import f1_score"
      ],
      "metadata": {
        "id": "1lMbIVaMHGUz"
      },
      "execution_count": null,
      "outputs": []
    },
    {
      "cell_type": "code",
      "source": [
        "# Read in 2019 Team Statistics\n",
        "df2019 = pd.read_html('https://wagnerathletics.com/sports/baseball/stats/2019')"
      ],
      "metadata": {
        "id": "Wj8g0y8fHLTO"
      },
      "execution_count": null,
      "outputs": []
    },
    {
      "cell_type": "markdown",
      "source": [
        "# **Pitching Statistics**"
      ],
      "metadata": {
        "id": "3CSqrxLhbTQT"
      }
    },
    {
      "cell_type": "markdown",
      "source": [
        "###Cleaning Data"
      ],
      "metadata": {
        "id": "u7uxaQKMtaPg"
      }
    },
    {
      "cell_type": "code",
      "source": [
        "# Pitching Statistics per Game\n",
        "pitching_stats = df2019[7]\n",
        "pitching_stats.replace(['at','vs'],'Away', inplace = True)\n",
        "pitching_stats.fillna('Home', inplace = True)\n",
        "pitching_stats = pitching_stats.rename(columns = {'Loc':'Location','Score.1':'Score'})\n",
        "pitching_stats['W/L'] = pitching_stats['W/L'].replace({\"W\": 1, \"L\": 0})\n",
        "pitching_stats.drop(index = pitching_stats.index[-1], axis = 0, inplace = True) # Dropping last row (aggregation row)\n",
        "pitching_stats['W/L'] = pitching_stats['W/L'].astype('int64')\n",
        "pitching_stats['Date'] = pd.to_datetime(pitching_stats['Date'], format='%m/%d/%Y')\n",
        "pitching_stats.head()"
      ],
      "metadata": {
        "id": "nB2O92QcHUmX",
        "colab": {
          "base_uri": "https://localhost:8080/",
          "height": 366
        },
        "outputId": "d68aba39-3498-44c6-88d4-4c65b2568608"
      },
      "execution_count": null,
      "outputs": [
        {
          "output_type": "execute_result",
          "data": {
            "text/plain": [
              "        Date Location   Opponent  W/L  Score   IP   H   R  ER  BB  ...  HR  \\\n",
              "0 2019-02-15     Away  San Diego    0   0-14  8.0  16  14  11   8  ...   0   \n",
              "1 2019-02-16     Away  San Diego    0    1-3  8.0   8   3   3   4  ...   1   \n",
              "2 2019-02-16     Away  San Diego    0   9-15  8.0  15  15  11   5  ...   1   \n",
              "3 2019-02-23     Away       ETSU    0    1-6  8.0   9   6   6   6  ...   1   \n",
              "4 2019-02-24     Away       ETSU    0    3-4  6.0   6   4   3   7  ...   1   \n",
              "\n",
              "   WP  BK  HBP  IBB  Score  W  L SV    ERA  \n",
              "0   5   0    3    0   0-14  0  1  0  12.38  \n",
              "1   1   0    1    1    1-3  0  2  0   3.38  \n",
              "2   0   1    3    0   9-15  0  3  0  12.38  \n",
              "3   3   0    4    1    1-6  0  4  0   6.75  \n",
              "4   0   0    1    0    3-4  0  5  0    4.5  \n",
              "\n",
              "[5 rows x 23 columns]"
            ],
            "text/html": [
              "\n",
              "  <div id=\"df-fd96bcd3-97bd-48f0-9a4a-f16d1c989dae\">\n",
              "    <div class=\"colab-df-container\">\n",
              "      <div>\n",
              "<style scoped>\n",
              "    .dataframe tbody tr th:only-of-type {\n",
              "        vertical-align: middle;\n",
              "    }\n",
              "\n",
              "    .dataframe tbody tr th {\n",
              "        vertical-align: top;\n",
              "    }\n",
              "\n",
              "    .dataframe thead th {\n",
              "        text-align: right;\n",
              "    }\n",
              "</style>\n",
              "<table border=\"1\" class=\"dataframe\">\n",
              "  <thead>\n",
              "    <tr style=\"text-align: right;\">\n",
              "      <th></th>\n",
              "      <th>Date</th>\n",
              "      <th>Location</th>\n",
              "      <th>Opponent</th>\n",
              "      <th>W/L</th>\n",
              "      <th>Score</th>\n",
              "      <th>IP</th>\n",
              "      <th>H</th>\n",
              "      <th>R</th>\n",
              "      <th>ER</th>\n",
              "      <th>BB</th>\n",
              "      <th>...</th>\n",
              "      <th>HR</th>\n",
              "      <th>WP</th>\n",
              "      <th>BK</th>\n",
              "      <th>HBP</th>\n",
              "      <th>IBB</th>\n",
              "      <th>Score</th>\n",
              "      <th>W</th>\n",
              "      <th>L</th>\n",
              "      <th>SV</th>\n",
              "      <th>ERA</th>\n",
              "    </tr>\n",
              "  </thead>\n",
              "  <tbody>\n",
              "    <tr>\n",
              "      <th>0</th>\n",
              "      <td>2019-02-15</td>\n",
              "      <td>Away</td>\n",
              "      <td>San Diego</td>\n",
              "      <td>0</td>\n",
              "      <td>0-14</td>\n",
              "      <td>8.0</td>\n",
              "      <td>16</td>\n",
              "      <td>14</td>\n",
              "      <td>11</td>\n",
              "      <td>8</td>\n",
              "      <td>...</td>\n",
              "      <td>0</td>\n",
              "      <td>5</td>\n",
              "      <td>0</td>\n",
              "      <td>3</td>\n",
              "      <td>0</td>\n",
              "      <td>0-14</td>\n",
              "      <td>0</td>\n",
              "      <td>1</td>\n",
              "      <td>0</td>\n",
              "      <td>12.38</td>\n",
              "    </tr>\n",
              "    <tr>\n",
              "      <th>1</th>\n",
              "      <td>2019-02-16</td>\n",
              "      <td>Away</td>\n",
              "      <td>San Diego</td>\n",
              "      <td>0</td>\n",
              "      <td>1-3</td>\n",
              "      <td>8.0</td>\n",
              "      <td>8</td>\n",
              "      <td>3</td>\n",
              "      <td>3</td>\n",
              "      <td>4</td>\n",
              "      <td>...</td>\n",
              "      <td>1</td>\n",
              "      <td>1</td>\n",
              "      <td>0</td>\n",
              "      <td>1</td>\n",
              "      <td>1</td>\n",
              "      <td>1-3</td>\n",
              "      <td>0</td>\n",
              "      <td>2</td>\n",
              "      <td>0</td>\n",
              "      <td>3.38</td>\n",
              "    </tr>\n",
              "    <tr>\n",
              "      <th>2</th>\n",
              "      <td>2019-02-16</td>\n",
              "      <td>Away</td>\n",
              "      <td>San Diego</td>\n",
              "      <td>0</td>\n",
              "      <td>9-15</td>\n",
              "      <td>8.0</td>\n",
              "      <td>15</td>\n",
              "      <td>15</td>\n",
              "      <td>11</td>\n",
              "      <td>5</td>\n",
              "      <td>...</td>\n",
              "      <td>1</td>\n",
              "      <td>0</td>\n",
              "      <td>1</td>\n",
              "      <td>3</td>\n",
              "      <td>0</td>\n",
              "      <td>9-15</td>\n",
              "      <td>0</td>\n",
              "      <td>3</td>\n",
              "      <td>0</td>\n",
              "      <td>12.38</td>\n",
              "    </tr>\n",
              "    <tr>\n",
              "      <th>3</th>\n",
              "      <td>2019-02-23</td>\n",
              "      <td>Away</td>\n",
              "      <td>ETSU</td>\n",
              "      <td>0</td>\n",
              "      <td>1-6</td>\n",
              "      <td>8.0</td>\n",
              "      <td>9</td>\n",
              "      <td>6</td>\n",
              "      <td>6</td>\n",
              "      <td>6</td>\n",
              "      <td>...</td>\n",
              "      <td>1</td>\n",
              "      <td>3</td>\n",
              "      <td>0</td>\n",
              "      <td>4</td>\n",
              "      <td>1</td>\n",
              "      <td>1-6</td>\n",
              "      <td>0</td>\n",
              "      <td>4</td>\n",
              "      <td>0</td>\n",
              "      <td>6.75</td>\n",
              "    </tr>\n",
              "    <tr>\n",
              "      <th>4</th>\n",
              "      <td>2019-02-24</td>\n",
              "      <td>Away</td>\n",
              "      <td>ETSU</td>\n",
              "      <td>0</td>\n",
              "      <td>3-4</td>\n",
              "      <td>6.0</td>\n",
              "      <td>6</td>\n",
              "      <td>4</td>\n",
              "      <td>3</td>\n",
              "      <td>7</td>\n",
              "      <td>...</td>\n",
              "      <td>1</td>\n",
              "      <td>0</td>\n",
              "      <td>0</td>\n",
              "      <td>1</td>\n",
              "      <td>0</td>\n",
              "      <td>3-4</td>\n",
              "      <td>0</td>\n",
              "      <td>5</td>\n",
              "      <td>0</td>\n",
              "      <td>4.5</td>\n",
              "    </tr>\n",
              "  </tbody>\n",
              "</table>\n",
              "<p>5 rows × 23 columns</p>\n",
              "</div>\n",
              "      <button class=\"colab-df-convert\" onclick=\"convertToInteractive('df-fd96bcd3-97bd-48f0-9a4a-f16d1c989dae')\"\n",
              "              title=\"Convert this dataframe to an interactive table.\"\n",
              "              style=\"display:none;\">\n",
              "        \n",
              "  <svg xmlns=\"http://www.w3.org/2000/svg\" height=\"24px\"viewBox=\"0 0 24 24\"\n",
              "       width=\"24px\">\n",
              "    <path d=\"M0 0h24v24H0V0z\" fill=\"none\"/>\n",
              "    <path d=\"M18.56 5.44l.94 2.06.94-2.06 2.06-.94-2.06-.94-.94-2.06-.94 2.06-2.06.94zm-11 1L8.5 8.5l.94-2.06 2.06-.94-2.06-.94L8.5 2.5l-.94 2.06-2.06.94zm10 10l.94 2.06.94-2.06 2.06-.94-2.06-.94-.94-2.06-.94 2.06-2.06.94z\"/><path d=\"M17.41 7.96l-1.37-1.37c-.4-.4-.92-.59-1.43-.59-.52 0-1.04.2-1.43.59L10.3 9.45l-7.72 7.72c-.78.78-.78 2.05 0 2.83L4 21.41c.39.39.9.59 1.41.59.51 0 1.02-.2 1.41-.59l7.78-7.78 2.81-2.81c.8-.78.8-2.07 0-2.86zM5.41 20L4 18.59l7.72-7.72 1.47 1.35L5.41 20z\"/>\n",
              "  </svg>\n",
              "      </button>\n",
              "      \n",
              "  <style>\n",
              "    .colab-df-container {\n",
              "      display:flex;\n",
              "      flex-wrap:wrap;\n",
              "      gap: 12px;\n",
              "    }\n",
              "\n",
              "    .colab-df-convert {\n",
              "      background-color: #E8F0FE;\n",
              "      border: none;\n",
              "      border-radius: 50%;\n",
              "      cursor: pointer;\n",
              "      display: none;\n",
              "      fill: #1967D2;\n",
              "      height: 32px;\n",
              "      padding: 0 0 0 0;\n",
              "      width: 32px;\n",
              "    }\n",
              "\n",
              "    .colab-df-convert:hover {\n",
              "      background-color: #E2EBFA;\n",
              "      box-shadow: 0px 1px 2px rgba(60, 64, 67, 0.3), 0px 1px 3px 1px rgba(60, 64, 67, 0.15);\n",
              "      fill: #174EA6;\n",
              "    }\n",
              "\n",
              "    [theme=dark] .colab-df-convert {\n",
              "      background-color: #3B4455;\n",
              "      fill: #D2E3FC;\n",
              "    }\n",
              "\n",
              "    [theme=dark] .colab-df-convert:hover {\n",
              "      background-color: #434B5C;\n",
              "      box-shadow: 0px 1px 3px 1px rgba(0, 0, 0, 0.15);\n",
              "      filter: drop-shadow(0px 1px 2px rgba(0, 0, 0, 0.3));\n",
              "      fill: #FFFFFF;\n",
              "    }\n",
              "  </style>\n",
              "\n",
              "      <script>\n",
              "        const buttonEl =\n",
              "          document.querySelector('#df-fd96bcd3-97bd-48f0-9a4a-f16d1c989dae button.colab-df-convert');\n",
              "        buttonEl.style.display =\n",
              "          google.colab.kernel.accessAllowed ? 'block' : 'none';\n",
              "\n",
              "        async function convertToInteractive(key) {\n",
              "          const element = document.querySelector('#df-fd96bcd3-97bd-48f0-9a4a-f16d1c989dae');\n",
              "          const dataTable =\n",
              "            await google.colab.kernel.invokeFunction('convertToInteractive',\n",
              "                                                     [key], {});\n",
              "          if (!dataTable) return;\n",
              "\n",
              "          const docLinkHtml = 'Like what you see? Visit the ' +\n",
              "            '<a target=\"_blank\" href=https://colab.research.google.com/notebooks/data_table.ipynb>data table notebook</a>'\n",
              "            + ' to learn more about interactive tables.';\n",
              "          element.innerHTML = '';\n",
              "          dataTable['output_type'] = 'display_data';\n",
              "          await google.colab.output.renderOutput(dataTable, element);\n",
              "          const docLink = document.createElement('div');\n",
              "          docLink.innerHTML = docLinkHtml;\n",
              "          element.appendChild(docLink);\n",
              "        }\n",
              "      </script>\n",
              "    </div>\n",
              "  </div>\n",
              "  "
            ]
          },
          "metadata": {},
          "execution_count": 14
        }
      ]
    },
    {
      "cell_type": "code",
      "source": [
        "# Pairwise correlations/linear relationship between 2 pitching statistics\n",
        "pitching_stats.corr().round(3)"
      ],
      "metadata": {
        "id": "6bDFYBe5nhSe",
        "colab": {
          "base_uri": "https://localhost:8080/",
          "height": 646
        },
        "outputId": "33260b85-363b-4db2-d563-5fa63ba85e33"
      },
      "execution_count": null,
      "outputs": [
        {
          "output_type": "execute_result",
          "data": {
            "text/plain": [
              "       W/L     IP      H      R     ER     BB     SO     2B     3B     HR  \\\n",
              "W/L  1.000  0.501 -0.466 -0.550 -0.551 -0.177  0.182 -0.105 -0.074 -0.249   \n",
              "IP   0.501  1.000 -0.354 -0.335 -0.391 -0.076  0.235 -0.211  0.085 -0.344   \n",
              "H   -0.466 -0.354  1.000  0.770  0.753  0.228 -0.204  0.335  0.170  0.267   \n",
              "R   -0.550 -0.335  0.770  1.000  0.911  0.498 -0.266  0.405  0.196  0.169   \n",
              "ER  -0.551 -0.391  0.753  0.911  1.000  0.472 -0.206  0.432  0.241  0.300   \n",
              "BB  -0.177 -0.076  0.228  0.498  0.472  1.000 -0.215  0.290  0.270 -0.252   \n",
              "SO   0.182  0.235 -0.204 -0.266 -0.206 -0.215  1.000 -0.203 -0.022  0.115   \n",
              "2B  -0.105 -0.211  0.335  0.405  0.432  0.290 -0.203  1.000 -0.076  0.121   \n",
              "3B  -0.074  0.085  0.170  0.196  0.241  0.270 -0.022 -0.076  1.000 -0.286   \n",
              "HR  -0.249 -0.344  0.267  0.169  0.300 -0.252  0.115  0.121 -0.286  1.000   \n",
              "WP  -0.185  0.027  0.022  0.170  0.148  0.151 -0.082 -0.009  0.038 -0.275   \n",
              "BK   0.228  0.288  0.062  0.031 -0.007  0.016  0.050 -0.021  0.223 -0.117   \n",
              "HBP -0.190 -0.240  0.203  0.441  0.372  0.188 -0.139  0.099  0.177 -0.069   \n",
              "IBB -0.277  0.052  0.007 -0.026  0.034  0.075  0.118 -0.159  0.257 -0.094   \n",
              "W    0.160  0.420 -0.261 -0.390 -0.388 -0.337  0.153 -0.191 -0.000 -0.057   \n",
              "L    0.120  0.382 -0.211 -0.344 -0.332 -0.291  0.198 -0.145 -0.005 -0.054   \n",
              "SV   0.681  0.268 -0.306 -0.350 -0.359  0.177  0.070 -0.096 -0.139 -0.309   \n",
              "\n",
              "        WP     BK    HBP    IBB      W      L     SV  \n",
              "W/L -0.185  0.228 -0.190 -0.277  0.160  0.120  0.681  \n",
              "IP   0.027  0.288 -0.240  0.052  0.420  0.382  0.268  \n",
              "H    0.022  0.062  0.203  0.007 -0.261 -0.211 -0.306  \n",
              "R    0.170  0.031  0.441 -0.026 -0.390 -0.344 -0.350  \n",
              "ER   0.148 -0.007  0.372  0.034 -0.388 -0.332 -0.359  \n",
              "BB   0.151  0.016  0.188  0.075 -0.337 -0.291  0.177  \n",
              "SO  -0.082  0.050 -0.139  0.118  0.153  0.198  0.070  \n",
              "2B  -0.009 -0.021  0.099 -0.159 -0.191 -0.145 -0.096  \n",
              "3B   0.038  0.223  0.177  0.257 -0.000 -0.005 -0.139  \n",
              "HR  -0.275 -0.117 -0.069 -0.094 -0.057 -0.054 -0.309  \n",
              "WP   1.000 -0.132 -0.004  0.281 -0.060 -0.090 -0.078  \n",
              "BK  -0.132  1.000 -0.004 -0.135  0.131  0.049  0.024  \n",
              "HBP -0.004 -0.004  1.000  0.148 -0.380 -0.387 -0.110  \n",
              "IBB  0.281 -0.135  0.148  1.000 -0.034 -0.047 -0.149  \n",
              "W   -0.060  0.131 -0.380 -0.034  1.000  0.971 -0.090  \n",
              "L   -0.090  0.049 -0.387 -0.047  0.971  1.000 -0.096  \n",
              "SV  -0.078  0.024 -0.110 -0.149 -0.090 -0.096  1.000  "
            ],
            "text/html": [
              "\n",
              "  <div id=\"df-2634fcd7-f7a6-4ddf-a9f6-8f0ff252da83\">\n",
              "    <div class=\"colab-df-container\">\n",
              "      <div>\n",
              "<style scoped>\n",
              "    .dataframe tbody tr th:only-of-type {\n",
              "        vertical-align: middle;\n",
              "    }\n",
              "\n",
              "    .dataframe tbody tr th {\n",
              "        vertical-align: top;\n",
              "    }\n",
              "\n",
              "    .dataframe thead th {\n",
              "        text-align: right;\n",
              "    }\n",
              "</style>\n",
              "<table border=\"1\" class=\"dataframe\">\n",
              "  <thead>\n",
              "    <tr style=\"text-align: right;\">\n",
              "      <th></th>\n",
              "      <th>W/L</th>\n",
              "      <th>IP</th>\n",
              "      <th>H</th>\n",
              "      <th>R</th>\n",
              "      <th>ER</th>\n",
              "      <th>BB</th>\n",
              "      <th>SO</th>\n",
              "      <th>2B</th>\n",
              "      <th>3B</th>\n",
              "      <th>HR</th>\n",
              "      <th>WP</th>\n",
              "      <th>BK</th>\n",
              "      <th>HBP</th>\n",
              "      <th>IBB</th>\n",
              "      <th>W</th>\n",
              "      <th>L</th>\n",
              "      <th>SV</th>\n",
              "    </tr>\n",
              "  </thead>\n",
              "  <tbody>\n",
              "    <tr>\n",
              "      <th>W/L</th>\n",
              "      <td>1.000</td>\n",
              "      <td>0.501</td>\n",
              "      <td>-0.466</td>\n",
              "      <td>-0.550</td>\n",
              "      <td>-0.551</td>\n",
              "      <td>-0.177</td>\n",
              "      <td>0.182</td>\n",
              "      <td>-0.105</td>\n",
              "      <td>-0.074</td>\n",
              "      <td>-0.249</td>\n",
              "      <td>-0.185</td>\n",
              "      <td>0.228</td>\n",
              "      <td>-0.190</td>\n",
              "      <td>-0.277</td>\n",
              "      <td>0.160</td>\n",
              "      <td>0.120</td>\n",
              "      <td>0.681</td>\n",
              "    </tr>\n",
              "    <tr>\n",
              "      <th>IP</th>\n",
              "      <td>0.501</td>\n",
              "      <td>1.000</td>\n",
              "      <td>-0.354</td>\n",
              "      <td>-0.335</td>\n",
              "      <td>-0.391</td>\n",
              "      <td>-0.076</td>\n",
              "      <td>0.235</td>\n",
              "      <td>-0.211</td>\n",
              "      <td>0.085</td>\n",
              "      <td>-0.344</td>\n",
              "      <td>0.027</td>\n",
              "      <td>0.288</td>\n",
              "      <td>-0.240</td>\n",
              "      <td>0.052</td>\n",
              "      <td>0.420</td>\n",
              "      <td>0.382</td>\n",
              "      <td>0.268</td>\n",
              "    </tr>\n",
              "    <tr>\n",
              "      <th>H</th>\n",
              "      <td>-0.466</td>\n",
              "      <td>-0.354</td>\n",
              "      <td>1.000</td>\n",
              "      <td>0.770</td>\n",
              "      <td>0.753</td>\n",
              "      <td>0.228</td>\n",
              "      <td>-0.204</td>\n",
              "      <td>0.335</td>\n",
              "      <td>0.170</td>\n",
              "      <td>0.267</td>\n",
              "      <td>0.022</td>\n",
              "      <td>0.062</td>\n",
              "      <td>0.203</td>\n",
              "      <td>0.007</td>\n",
              "      <td>-0.261</td>\n",
              "      <td>-0.211</td>\n",
              "      <td>-0.306</td>\n",
              "    </tr>\n",
              "    <tr>\n",
              "      <th>R</th>\n",
              "      <td>-0.550</td>\n",
              "      <td>-0.335</td>\n",
              "      <td>0.770</td>\n",
              "      <td>1.000</td>\n",
              "      <td>0.911</td>\n",
              "      <td>0.498</td>\n",
              "      <td>-0.266</td>\n",
              "      <td>0.405</td>\n",
              "      <td>0.196</td>\n",
              "      <td>0.169</td>\n",
              "      <td>0.170</td>\n",
              "      <td>0.031</td>\n",
              "      <td>0.441</td>\n",
              "      <td>-0.026</td>\n",
              "      <td>-0.390</td>\n",
              "      <td>-0.344</td>\n",
              "      <td>-0.350</td>\n",
              "    </tr>\n",
              "    <tr>\n",
              "      <th>ER</th>\n",
              "      <td>-0.551</td>\n",
              "      <td>-0.391</td>\n",
              "      <td>0.753</td>\n",
              "      <td>0.911</td>\n",
              "      <td>1.000</td>\n",
              "      <td>0.472</td>\n",
              "      <td>-0.206</td>\n",
              "      <td>0.432</td>\n",
              "      <td>0.241</td>\n",
              "      <td>0.300</td>\n",
              "      <td>0.148</td>\n",
              "      <td>-0.007</td>\n",
              "      <td>0.372</td>\n",
              "      <td>0.034</td>\n",
              "      <td>-0.388</td>\n",
              "      <td>-0.332</td>\n",
              "      <td>-0.359</td>\n",
              "    </tr>\n",
              "    <tr>\n",
              "      <th>BB</th>\n",
              "      <td>-0.177</td>\n",
              "      <td>-0.076</td>\n",
              "      <td>0.228</td>\n",
              "      <td>0.498</td>\n",
              "      <td>0.472</td>\n",
              "      <td>1.000</td>\n",
              "      <td>-0.215</td>\n",
              "      <td>0.290</td>\n",
              "      <td>0.270</td>\n",
              "      <td>-0.252</td>\n",
              "      <td>0.151</td>\n",
              "      <td>0.016</td>\n",
              "      <td>0.188</td>\n",
              "      <td>0.075</td>\n",
              "      <td>-0.337</td>\n",
              "      <td>-0.291</td>\n",
              "      <td>0.177</td>\n",
              "    </tr>\n",
              "    <tr>\n",
              "      <th>SO</th>\n",
              "      <td>0.182</td>\n",
              "      <td>0.235</td>\n",
              "      <td>-0.204</td>\n",
              "      <td>-0.266</td>\n",
              "      <td>-0.206</td>\n",
              "      <td>-0.215</td>\n",
              "      <td>1.000</td>\n",
              "      <td>-0.203</td>\n",
              "      <td>-0.022</td>\n",
              "      <td>0.115</td>\n",
              "      <td>-0.082</td>\n",
              "      <td>0.050</td>\n",
              "      <td>-0.139</td>\n",
              "      <td>0.118</td>\n",
              "      <td>0.153</td>\n",
              "      <td>0.198</td>\n",
              "      <td>0.070</td>\n",
              "    </tr>\n",
              "    <tr>\n",
              "      <th>2B</th>\n",
              "      <td>-0.105</td>\n",
              "      <td>-0.211</td>\n",
              "      <td>0.335</td>\n",
              "      <td>0.405</td>\n",
              "      <td>0.432</td>\n",
              "      <td>0.290</td>\n",
              "      <td>-0.203</td>\n",
              "      <td>1.000</td>\n",
              "      <td>-0.076</td>\n",
              "      <td>0.121</td>\n",
              "      <td>-0.009</td>\n",
              "      <td>-0.021</td>\n",
              "      <td>0.099</td>\n",
              "      <td>-0.159</td>\n",
              "      <td>-0.191</td>\n",
              "      <td>-0.145</td>\n",
              "      <td>-0.096</td>\n",
              "    </tr>\n",
              "    <tr>\n",
              "      <th>3B</th>\n",
              "      <td>-0.074</td>\n",
              "      <td>0.085</td>\n",
              "      <td>0.170</td>\n",
              "      <td>0.196</td>\n",
              "      <td>0.241</td>\n",
              "      <td>0.270</td>\n",
              "      <td>-0.022</td>\n",
              "      <td>-0.076</td>\n",
              "      <td>1.000</td>\n",
              "      <td>-0.286</td>\n",
              "      <td>0.038</td>\n",
              "      <td>0.223</td>\n",
              "      <td>0.177</td>\n",
              "      <td>0.257</td>\n",
              "      <td>-0.000</td>\n",
              "      <td>-0.005</td>\n",
              "      <td>-0.139</td>\n",
              "    </tr>\n",
              "    <tr>\n",
              "      <th>HR</th>\n",
              "      <td>-0.249</td>\n",
              "      <td>-0.344</td>\n",
              "      <td>0.267</td>\n",
              "      <td>0.169</td>\n",
              "      <td>0.300</td>\n",
              "      <td>-0.252</td>\n",
              "      <td>0.115</td>\n",
              "      <td>0.121</td>\n",
              "      <td>-0.286</td>\n",
              "      <td>1.000</td>\n",
              "      <td>-0.275</td>\n",
              "      <td>-0.117</td>\n",
              "      <td>-0.069</td>\n",
              "      <td>-0.094</td>\n",
              "      <td>-0.057</td>\n",
              "      <td>-0.054</td>\n",
              "      <td>-0.309</td>\n",
              "    </tr>\n",
              "    <tr>\n",
              "      <th>WP</th>\n",
              "      <td>-0.185</td>\n",
              "      <td>0.027</td>\n",
              "      <td>0.022</td>\n",
              "      <td>0.170</td>\n",
              "      <td>0.148</td>\n",
              "      <td>0.151</td>\n",
              "      <td>-0.082</td>\n",
              "      <td>-0.009</td>\n",
              "      <td>0.038</td>\n",
              "      <td>-0.275</td>\n",
              "      <td>1.000</td>\n",
              "      <td>-0.132</td>\n",
              "      <td>-0.004</td>\n",
              "      <td>0.281</td>\n",
              "      <td>-0.060</td>\n",
              "      <td>-0.090</td>\n",
              "      <td>-0.078</td>\n",
              "    </tr>\n",
              "    <tr>\n",
              "      <th>BK</th>\n",
              "      <td>0.228</td>\n",
              "      <td>0.288</td>\n",
              "      <td>0.062</td>\n",
              "      <td>0.031</td>\n",
              "      <td>-0.007</td>\n",
              "      <td>0.016</td>\n",
              "      <td>0.050</td>\n",
              "      <td>-0.021</td>\n",
              "      <td>0.223</td>\n",
              "      <td>-0.117</td>\n",
              "      <td>-0.132</td>\n",
              "      <td>1.000</td>\n",
              "      <td>-0.004</td>\n",
              "      <td>-0.135</td>\n",
              "      <td>0.131</td>\n",
              "      <td>0.049</td>\n",
              "      <td>0.024</td>\n",
              "    </tr>\n",
              "    <tr>\n",
              "      <th>HBP</th>\n",
              "      <td>-0.190</td>\n",
              "      <td>-0.240</td>\n",
              "      <td>0.203</td>\n",
              "      <td>0.441</td>\n",
              "      <td>0.372</td>\n",
              "      <td>0.188</td>\n",
              "      <td>-0.139</td>\n",
              "      <td>0.099</td>\n",
              "      <td>0.177</td>\n",
              "      <td>-0.069</td>\n",
              "      <td>-0.004</td>\n",
              "      <td>-0.004</td>\n",
              "      <td>1.000</td>\n",
              "      <td>0.148</td>\n",
              "      <td>-0.380</td>\n",
              "      <td>-0.387</td>\n",
              "      <td>-0.110</td>\n",
              "    </tr>\n",
              "    <tr>\n",
              "      <th>IBB</th>\n",
              "      <td>-0.277</td>\n",
              "      <td>0.052</td>\n",
              "      <td>0.007</td>\n",
              "      <td>-0.026</td>\n",
              "      <td>0.034</td>\n",
              "      <td>0.075</td>\n",
              "      <td>0.118</td>\n",
              "      <td>-0.159</td>\n",
              "      <td>0.257</td>\n",
              "      <td>-0.094</td>\n",
              "      <td>0.281</td>\n",
              "      <td>-0.135</td>\n",
              "      <td>0.148</td>\n",
              "      <td>1.000</td>\n",
              "      <td>-0.034</td>\n",
              "      <td>-0.047</td>\n",
              "      <td>-0.149</td>\n",
              "    </tr>\n",
              "    <tr>\n",
              "      <th>W</th>\n",
              "      <td>0.160</td>\n",
              "      <td>0.420</td>\n",
              "      <td>-0.261</td>\n",
              "      <td>-0.390</td>\n",
              "      <td>-0.388</td>\n",
              "      <td>-0.337</td>\n",
              "      <td>0.153</td>\n",
              "      <td>-0.191</td>\n",
              "      <td>-0.000</td>\n",
              "      <td>-0.057</td>\n",
              "      <td>-0.060</td>\n",
              "      <td>0.131</td>\n",
              "      <td>-0.380</td>\n",
              "      <td>-0.034</td>\n",
              "      <td>1.000</td>\n",
              "      <td>0.971</td>\n",
              "      <td>-0.090</td>\n",
              "    </tr>\n",
              "    <tr>\n",
              "      <th>L</th>\n",
              "      <td>0.120</td>\n",
              "      <td>0.382</td>\n",
              "      <td>-0.211</td>\n",
              "      <td>-0.344</td>\n",
              "      <td>-0.332</td>\n",
              "      <td>-0.291</td>\n",
              "      <td>0.198</td>\n",
              "      <td>-0.145</td>\n",
              "      <td>-0.005</td>\n",
              "      <td>-0.054</td>\n",
              "      <td>-0.090</td>\n",
              "      <td>0.049</td>\n",
              "      <td>-0.387</td>\n",
              "      <td>-0.047</td>\n",
              "      <td>0.971</td>\n",
              "      <td>1.000</td>\n",
              "      <td>-0.096</td>\n",
              "    </tr>\n",
              "    <tr>\n",
              "      <th>SV</th>\n",
              "      <td>0.681</td>\n",
              "      <td>0.268</td>\n",
              "      <td>-0.306</td>\n",
              "      <td>-0.350</td>\n",
              "      <td>-0.359</td>\n",
              "      <td>0.177</td>\n",
              "      <td>0.070</td>\n",
              "      <td>-0.096</td>\n",
              "      <td>-0.139</td>\n",
              "      <td>-0.309</td>\n",
              "      <td>-0.078</td>\n",
              "      <td>0.024</td>\n",
              "      <td>-0.110</td>\n",
              "      <td>-0.149</td>\n",
              "      <td>-0.090</td>\n",
              "      <td>-0.096</td>\n",
              "      <td>1.000</td>\n",
              "    </tr>\n",
              "  </tbody>\n",
              "</table>\n",
              "</div>\n",
              "      <button class=\"colab-df-convert\" onclick=\"convertToInteractive('df-2634fcd7-f7a6-4ddf-a9f6-8f0ff252da83')\"\n",
              "              title=\"Convert this dataframe to an interactive table.\"\n",
              "              style=\"display:none;\">\n",
              "        \n",
              "  <svg xmlns=\"http://www.w3.org/2000/svg\" height=\"24px\"viewBox=\"0 0 24 24\"\n",
              "       width=\"24px\">\n",
              "    <path d=\"M0 0h24v24H0V0z\" fill=\"none\"/>\n",
              "    <path d=\"M18.56 5.44l.94 2.06.94-2.06 2.06-.94-2.06-.94-.94-2.06-.94 2.06-2.06.94zm-11 1L8.5 8.5l.94-2.06 2.06-.94-2.06-.94L8.5 2.5l-.94 2.06-2.06.94zm10 10l.94 2.06.94-2.06 2.06-.94-2.06-.94-.94-2.06-.94 2.06-2.06.94z\"/><path d=\"M17.41 7.96l-1.37-1.37c-.4-.4-.92-.59-1.43-.59-.52 0-1.04.2-1.43.59L10.3 9.45l-7.72 7.72c-.78.78-.78 2.05 0 2.83L4 21.41c.39.39.9.59 1.41.59.51 0 1.02-.2 1.41-.59l7.78-7.78 2.81-2.81c.8-.78.8-2.07 0-2.86zM5.41 20L4 18.59l7.72-7.72 1.47 1.35L5.41 20z\"/>\n",
              "  </svg>\n",
              "      </button>\n",
              "      \n",
              "  <style>\n",
              "    .colab-df-container {\n",
              "      display:flex;\n",
              "      flex-wrap:wrap;\n",
              "      gap: 12px;\n",
              "    }\n",
              "\n",
              "    .colab-df-convert {\n",
              "      background-color: #E8F0FE;\n",
              "      border: none;\n",
              "      border-radius: 50%;\n",
              "      cursor: pointer;\n",
              "      display: none;\n",
              "      fill: #1967D2;\n",
              "      height: 32px;\n",
              "      padding: 0 0 0 0;\n",
              "      width: 32px;\n",
              "    }\n",
              "\n",
              "    .colab-df-convert:hover {\n",
              "      background-color: #E2EBFA;\n",
              "      box-shadow: 0px 1px 2px rgba(60, 64, 67, 0.3), 0px 1px 3px 1px rgba(60, 64, 67, 0.15);\n",
              "      fill: #174EA6;\n",
              "    }\n",
              "\n",
              "    [theme=dark] .colab-df-convert {\n",
              "      background-color: #3B4455;\n",
              "      fill: #D2E3FC;\n",
              "    }\n",
              "\n",
              "    [theme=dark] .colab-df-convert:hover {\n",
              "      background-color: #434B5C;\n",
              "      box-shadow: 0px 1px 3px 1px rgba(0, 0, 0, 0.15);\n",
              "      filter: drop-shadow(0px 1px 2px rgba(0, 0, 0, 0.3));\n",
              "      fill: #FFFFFF;\n",
              "    }\n",
              "  </style>\n",
              "\n",
              "      <script>\n",
              "        const buttonEl =\n",
              "          document.querySelector('#df-2634fcd7-f7a6-4ddf-a9f6-8f0ff252da83 button.colab-df-convert');\n",
              "        buttonEl.style.display =\n",
              "          google.colab.kernel.accessAllowed ? 'block' : 'none';\n",
              "\n",
              "        async function convertToInteractive(key) {\n",
              "          const element = document.querySelector('#df-2634fcd7-f7a6-4ddf-a9f6-8f0ff252da83');\n",
              "          const dataTable =\n",
              "            await google.colab.kernel.invokeFunction('convertToInteractive',\n",
              "                                                     [key], {});\n",
              "          if (!dataTable) return;\n",
              "\n",
              "          const docLinkHtml = 'Like what you see? Visit the ' +\n",
              "            '<a target=\"_blank\" href=https://colab.research.google.com/notebooks/data_table.ipynb>data table notebook</a>'\n",
              "            + ' to learn more about interactive tables.';\n",
              "          element.innerHTML = '';\n",
              "          dataTable['output_type'] = 'display_data';\n",
              "          await google.colab.output.renderOutput(dataTable, element);\n",
              "          const docLink = document.createElement('div');\n",
              "          docLink.innerHTML = docLinkHtml;\n",
              "          element.appendChild(docLink);\n",
              "        }\n",
              "      </script>\n",
              "    </div>\n",
              "  </div>\n",
              "  "
            ]
          },
          "metadata": {},
          "execution_count": 6
        }
      ]
    },
    {
      "cell_type": "markdown",
      "source": [
        "### **1. Predicting Runs Allowed from Hits (Linear Regression Model)**"
      ],
      "metadata": {
        "id": "0JWr1ugYvVZd"
      }
    },
    {
      "cell_type": "code",
      "source": [
        "# Correlation between Runs Allowed and Hits\n",
        "print('Correlation Coefficient (R): ', pitching_stats['R'].corr(pitching_stats['H']))"
      ],
      "metadata": {
        "colab": {
          "base_uri": "https://localhost:8080/"
        },
        "id": "fX_kwElc_N9q",
        "outputId": "4ce77ed6-93ea-46e1-e2c4-1800ba75d9f0"
      },
      "execution_count": null,
      "outputs": [
        {
          "output_type": "stream",
          "name": "stdout",
          "text": [
            "Correlation Coefficient (R):  0.7704594021722708\n"
          ]
        }
      ]
    },
    {
      "cell_type": "code",
      "source": [
        "# Scatter Plot\n",
        "x = pitching_stats['H']\n",
        "y = pitching_stats['R']\n",
        "plt.figure(figsize=(8,6))\n",
        "plt.scatter(x,y)\n",
        "plt.xlim(0, None)\n",
        "plt.xticks(range(0,18,2))\n",
        "plt.yticks(range(0,20,2))\n",
        "plt.xlabel(\"Hits Allowed\")\n",
        "plt.ylabel(\"Runs Allowed\")\n",
        "plt.title(\"Runs Allowed vs. Hits Given Up\")\n",
        "c, d = np.polyfit(x, y, 1) #find line of best fit\n",
        "plt.plot(x, c*x+d, color='red', linestyle='dotted', linewidth=2) #add line of best fit to plot\n",
        "plt.text(1, 13, 'Line of Best Fit: y = ' + '{:.2f}'.format(d) + ' + {:.2f}'.format(c) + 'x', size=14) #add fitted regression equation to plot\n",
        "plt.show()"
      ],
      "metadata": {
        "colab": {
          "base_uri": "https://localhost:8080/",
          "height": 404
        },
        "id": "LpWiXoEQuhmS",
        "outputId": "6555d658-948a-4ff6-d0e6-02aa2b46ea4a"
      },
      "execution_count": null,
      "outputs": [
        {
          "output_type": "display_data",
          "data": {
            "text/plain": [
              "<Figure size 576x432 with 1 Axes>"
            ],
            "image/png": "[encoded data removed]"
          },
          "metadata": {
            "needs_background": "light"
          }
        }
      ]
    },
    {
      "cell_type": "markdown",
      "source": [
        "####**Linear Regression Model**"
      ],
      "metadata": {
        "id": "pJQ7z8w55o4v"
      }
    },
    {
      "cell_type": "code",
      "source": [
        "from pandas.core.common import random_state\n",
        "x = pitching_stats['H'].values.reshape(-1,1)\n",
        "y = pitching_stats['R'].values.reshape(-1,1)\n",
        "X_train, X_test, y_train, y_test = train_test_split(x, y, test_size = 0.25, random_state=0)\n",
        "print('Training Data Count: {}'.format(X_train.shape[0]))\n",
        "print('Testing Data Count: {}'.format(X_test.shape[0]))"
      ],
      "metadata": {
        "colab": {
          "base_uri": "https://localhost:8080/"
        },
        "id": "fdL9fuet3k87",
        "outputId": "c17f0eaa-4b6f-415c-c0c3-a2aabf670cb5"
      },
      "execution_count": null,
      "outputs": [
        {
          "output_type": "stream",
          "name": "stdout",
          "text": [
            "Training Data Count: 38\n",
            "Testing Data Count: 13\n"
          ]
        }
      ]
    },
    {
      "cell_type": "code",
      "source": [
        "# Train Model\n",
        "linreg = LinearRegression() #create linear regression model\n",
        "linreg.fit(X_train, y_train) #training regression model\n",
        "linreg_int = str(linreg.intercept_).replace('[', '').replace(']', '') # convert np array to string\n",
        "linreg_coef = str(linreg.coef_).replace(' [', '').replace('[', '').replace(']', '').replace('] ','')\n",
        "print('Linear Regression Model Intercept: ', linreg_int)\n",
        "print('Linear Regression Model Slope: ', linreg_coef)"
      ],
      "metadata": {
        "colab": {
          "base_uri": "https://localhost:8080/"
        },
        "id": "tyagSoEB6b56",
        "outputId": "710edc68-277b-4fc4-e39d-b29497a31773"
      },
      "execution_count": null,
      "outputs": [
        {
          "output_type": "stream",
          "name": "stdout",
          "text": [
            "Linear Regression Model Intercept:  -1.10153466\n",
            "Linear Regression Model Slope:  0.80413121\n"
          ]
        }
      ]
    },
    {
      "cell_type": "code",
      "source": [
        "# Test Model\n",
        "lin_pred = linreg.predict(X_test)"
      ],
      "metadata": {
        "id": "B-ojusbv676o"
      },
      "execution_count": null,
      "outputs": []
    },
    {
      "cell_type": "code",
      "source": [
        "# Compare actual and predicted values for X_test\n",
        "compare_df = pd.DataFrame({'Actual': y_test.flatten(), 'Predicted': lin_pred.flatten()})\n",
        "compare_df['Residual'] = compare_df['Actual'] - compare_df['Predicted']\n",
        "print(compare_df)\n",
        "plt.hist(compare_df['Residual']) # histogram of residuals\n",
        "plt.title(\"Histogram of Residual Values\")\n",
        "plt.xlabel(\"Residuals\")\n",
        "plt.ylabel(\"Frequency\")\n",
        "plt.show()"
      ],
      "metadata": {
        "colab": {
          "base_uri": "https://localhost:8080/",
          "height": 538
        },
        "id": "lp9DqgpZ7iqr",
        "outputId": "1ba8fc78-f9ee-4def-edbd-21274f4e2af1"
      },
      "execution_count": null,
      "outputs": [
        {
          "output_type": "stream",
          "name": "stdout",
          "text": [
            "    Actual  Predicted  Residual\n",
            "0        5   4.527384  0.472616\n",
            "1        2   2.919121 -0.919121\n",
            "2       18  12.568696  5.431304\n",
            "3       10   7.743909  2.256091\n",
            "4       15  10.960433  4.039567\n",
            "5       14  11.764565  2.235435\n",
            "6        2   6.939777 -4.939777\n",
            "7        4   4.527384 -0.527384\n",
            "8        4   6.939777 -2.939777\n",
            "9        4   3.723253  0.276747\n",
            "10       9   9.352171 -0.352171\n",
            "11       5   8.548040 -3.548040\n",
            "12       1   2.114990 -1.114990\n"
          ]
        },
        {
          "output_type": "display_data",
          "data": {
            "text/plain": [
              "<Figure size 432x288 with 1 Axes>"
            ],
            "image/png": "[encoded data removed]"
          },
          "metadata": {
            "needs_background": "light"
          }
        }
      ]
    },
    {
      "cell_type": "code",
      "source": [
        "# Plotting predicted values on top of actual values\n",
        "plt.figure(figsize=(8,6))\n",
        "plt.scatter(X_test, y_test, color = 'gray') # Actual Values\n",
        "plt.plot(X_test, lin_pred, color = 'red') # Predicted values\n",
        "plt.xticks(range(0,18,2))\n",
        "plt.yticks(range(0,20,2))\n",
        "plt.xlabel(\"Hits\")\n",
        "plt.ylabel(\"Runs\")\n",
        "plt.title(\"Actual vs. Predicted Runs Allowed\")\n",
        "plt.text(1, 13, 'Model: y = ' + linreg_int + ' + ' + linreg_coef + 'x', size=14)\n",
        "plt.show()"
      ],
      "metadata": {
        "colab": {
          "base_uri": "https://localhost:8080/",
          "height": 404
        },
        "id": "nDTvYjJ79Znl",
        "outputId": "12250cbc-eb8d-48d2-a8aa-5f039356aac1"
      },
      "execution_count": null,
      "outputs": [
        {
          "output_type": "display_data",
          "data": {
            "text/plain": [
              "<Figure size 576x432 with 1 Axes>"
            ],
            "image/png": "[encoded data removed]"
          },
          "metadata": {
            "needs_background": "light"
          }
        }
      ]
    },
    {
      "cell_type": "code",
      "source": [
        "# Evaluating Performance of Model\n",
        "print('Coefficient of Determination (R^2):', r2_score(y_test, lin_pred))\n",
        "print('Mean Absolute Error: ', metrics.mean_absolute_error(y_test, lin_pred))\n",
        "print('Mean Squared Error: ', metrics.mean_squared_error(y_test, lin_pred))\n",
        "print('Root Mean Squared Error: ', np.sqrt(metrics.mean_squared_error(y_test, lin_pred)))"
      ],
      "metadata": {
        "colab": {
          "base_uri": "https://localhost:8080/"
        },
        "id": "qHES8JzC9FEq",
        "outputId": "9c853f28-4794-465f-a11a-a2e2471f4ab0"
      },
      "execution_count": null,
      "outputs": [
        {
          "output_type": "stream",
          "name": "stdout",
          "text": [
            "Coefficient of Determination (R^2): 0.7162664034036852\n",
            "Mean Absolute Error:  2.2348478490743378\n",
            "Mean Squared Error:  8.025127761718254\n",
            "Root Mean Squared Error:  2.8328656448406186\n"
          ]
        }
      ]
    },
    {
      "cell_type": "markdown",
      "source": [
        "**User Input: Predict runs allowed using model (run cell below)**"
      ],
      "metadata": {
        "id": "rIYlYffid7Z4"
      }
    },
    {
      "cell_type": "code",
      "source": [
        "hits_allowed = float(input('Enter number of hits allowed: '))\n",
        "runs_allowed = linreg.coef_ * hits_allowed + linreg.intercept_\n",
        "print('Predicted runs allowed: ', str(runs_allowed).replace(' [', '').replace('[', '').replace(']', '').replace('] ',''))"
      ],
      "metadata": {
        "id": "c5DEhRkc_UH6",
        "colab": {
          "base_uri": "https://localhost:8080/"
        },
        "outputId": "76fc1de8-adf8-4291-b08e-2a56f852c540"
      },
      "execution_count": null,
      "outputs": [
        {
          "output_type": "stream",
          "name": "stdout",
          "text": [
            "Enter number of hits allowed: 9\n",
            "Predicted runs allowed:  6.13564623\n"
          ]
        }
      ]
    },
    {
      "cell_type": "markdown",
      "source": [
        "# **Batting Statistics**"
      ],
      "metadata": {
        "id": "skxz0Pp0bfjy"
      }
    },
    {
      "cell_type": "markdown",
      "source": [
        "###Cleaning Data"
      ],
      "metadata": {
        "id": "ZBG4O_J8jNxz"
      }
    },
    {
      "cell_type": "code",
      "source": [
        "# Batting Statistics per Game\n",
        "batting_stats = df2019[6]\n",
        "batting_stats.replace(['at','vs'],'Away', inplace = True)\n",
        "batting_stats.fillna('Home', inplace = True)\n",
        "batting_stats.replace('home','Home', inplace = True)\n",
        "batting_stats.replace('away','Away', inplace = True)\n",
        "batting_stats = batting_stats.rename(columns = {'Loc':'Location'})\n",
        "batting_stats['W/L'].replace({\"W\": 1, \"L\": 0}, inplace = True)\n",
        "batting_stats.drop(index = batting_stats.index[-1], axis = 0, inplace = True) # Dropping last row (aggregation row)\n",
        "batting_stats['W/L'] = batting_stats['W/L'].astype('int64')\n",
        "batting_stats['Date'] = pd.to_datetime(batting_stats['Date'], format='%m/%d/%Y')\n",
        "batting_stats.head()"
      ],
      "metadata": {
        "id": "5dGWlssXHTcr",
        "colab": {
          "base_uri": "https://localhost:8080/",
          "height": 280
        },
        "outputId": "07b73e21-3f62-4c35-f682-204357c5b4b1"
      },
      "execution_count": null,
      "outputs": [
        {
          "output_type": "execute_result",
          "data": {
            "text/plain": [
              "        Date Location   Opponent  W/L Score  AB  R   H  RBI  2B  ...  CS  HBP  \\\n",
              "0 2019-02-15     Away  San Diego    0  0-14  27  0   1    0   1  ...   1    0   \n",
              "1 2019-02-16     Away  San Diego    0   1-3  33  1   7    1   1  ...   0    0   \n",
              "2 2019-02-16     Away  San Diego    0  9-15  35  9  14    9   0  ...   0    0   \n",
              "3 2019-02-23     Away       ETSU    0   1-6  28  1   2    1   0  ...   0    1   \n",
              "4 2019-02-24     Away       ETSU    0   3-4  26  3   6    3   1  ...   1    2   \n",
              "\n",
              "   SH  SF  GDP   K  PO   A  E    AVG  \n",
              "0   0   0    0  12  24  10  2  0.037  \n",
              "1   0   0    0  10  24  11  0  0.212  \n",
              "2   1   3    0   4  24   7  3    0.4  \n",
              "3   0   0    1   8  24  10  0  0.071  \n",
              "4   1   0    0  11  18   2  1  0.231  \n",
              "\n",
              "[5 rows x 25 columns]"
            ],
            "text/html": [
              "\n",
              "  <div id=\"df-4fea0979-4300-4882-a70f-796e7142930a\">\n",
              "    <div class=\"colab-df-container\">\n",
              "      <div>\n",
              "<style scoped>\n",
              "    .dataframe tbody tr th:only-of-type {\n",
              "        vertical-align: middle;\n",
              "    }\n",
              "\n",
              "    .dataframe tbody tr th {\n",
              "        vertical-align: top;\n",
              "    }\n",
              "\n",
              "    .dataframe thead th {\n",
              "        text-align: right;\n",
              "    }\n",
              "</style>\n",
              "<table border=\"1\" class=\"dataframe\">\n",
              "  <thead>\n",
              "    <tr style=\"text-align: right;\">\n",
              "      <th></th>\n",
              "      <th>Date</th>\n",
              "      <th>Location</th>\n",
              "      <th>Opponent</th>\n",
              "      <th>W/L</th>\n",
              "      <th>Score</th>\n",
              "      <th>AB</th>\n",
              "      <th>R</th>\n",
              "      <th>H</th>\n",
              "      <th>RBI</th>\n",
              "      <th>2B</th>\n",
              "      <th>...</th>\n",
              "      <th>CS</th>\n",
              "      <th>HBP</th>\n",
              "      <th>SH</th>\n",
              "      <th>SF</th>\n",
              "      <th>GDP</th>\n",
              "      <th>K</th>\n",
              "      <th>PO</th>\n",
              "      <th>A</th>\n",
              "      <th>E</th>\n",
              "      <th>AVG</th>\n",
              "    </tr>\n",
              "  </thead>\n",
              "  <tbody>\n",
              "    <tr>\n",
              "      <th>0</th>\n",
              "      <td>2019-02-15</td>\n",
              "      <td>Away</td>\n",
              "      <td>San Diego</td>\n",
              "      <td>0</td>\n",
              "      <td>0-14</td>\n",
              "      <td>27</td>\n",
              "      <td>0</td>\n",
              "      <td>1</td>\n",
              "      <td>0</td>\n",
              "      <td>1</td>\n",
              "      <td>...</td>\n",
              "      <td>1</td>\n",
              "      <td>0</td>\n",
              "      <td>0</td>\n",
              "      <td>0</td>\n",
              "      <td>0</td>\n",
              "      <td>12</td>\n",
              "      <td>24</td>\n",
              "      <td>10</td>\n",
              "      <td>2</td>\n",
              "      <td>0.037</td>\n",
              "    </tr>\n",
              "    <tr>\n",
              "      <th>1</th>\n",
              "      <td>2019-02-16</td>\n",
              "      <td>Away</td>\n",
              "      <td>San Diego</td>\n",
              "      <td>0</td>\n",
              "      <td>1-3</td>\n",
              "      <td>33</td>\n",
              "      <td>1</td>\n",
              "      <td>7</td>\n",
              "      <td>1</td>\n",
              "      <td>1</td>\n",
              "      <td>...</td>\n",
              "      <td>0</td>\n",
              "      <td>0</td>\n",
              "      <td>0</td>\n",
              "      <td>0</td>\n",
              "      <td>0</td>\n",
              "      <td>10</td>\n",
              "      <td>24</td>\n",
              "      <td>11</td>\n",
              "      <td>0</td>\n",
              "      <td>0.212</td>\n",
              "    </tr>\n",
              "    <tr>\n",
              "      <th>2</th>\n",
              "      <td>2019-02-16</td>\n",
              "      <td>Away</td>\n",
              "      <td>San Diego</td>\n",
              "      <td>0</td>\n",
              "      <td>9-15</td>\n",
              "      <td>35</td>\n",
              "      <td>9</td>\n",
              "      <td>14</td>\n",
              "      <td>9</td>\n",
              "      <td>0</td>\n",
              "      <td>...</td>\n",
              "      <td>0</td>\n",
              "      <td>0</td>\n",
              "      <td>1</td>\n",
              "      <td>3</td>\n",
              "      <td>0</td>\n",
              "      <td>4</td>\n",
              "      <td>24</td>\n",
              "      <td>7</td>\n",
              "      <td>3</td>\n",
              "      <td>0.4</td>\n",
              "    </tr>\n",
              "    <tr>\n",
              "      <th>3</th>\n",
              "      <td>2019-02-23</td>\n",
              "      <td>Away</td>\n",
              "      <td>ETSU</td>\n",
              "      <td>0</td>\n",
              "      <td>1-6</td>\n",
              "      <td>28</td>\n",
              "      <td>1</td>\n",
              "      <td>2</td>\n",
              "      <td>1</td>\n",
              "      <td>0</td>\n",
              "      <td>...</td>\n",
              "      <td>0</td>\n",
              "      <td>1</td>\n",
              "      <td>0</td>\n",
              "      <td>0</td>\n",
              "      <td>1</td>\n",
              "      <td>8</td>\n",
              "      <td>24</td>\n",
              "      <td>10</td>\n",
              "      <td>0</td>\n",
              "      <td>0.071</td>\n",
              "    </tr>\n",
              "    <tr>\n",
              "      <th>4</th>\n",
              "      <td>2019-02-24</td>\n",
              "      <td>Away</td>\n",
              "      <td>ETSU</td>\n",
              "      <td>0</td>\n",
              "      <td>3-4</td>\n",
              "      <td>26</td>\n",
              "      <td>3</td>\n",
              "      <td>6</td>\n",
              "      <td>3</td>\n",
              "      <td>1</td>\n",
              "      <td>...</td>\n",
              "      <td>1</td>\n",
              "      <td>2</td>\n",
              "      <td>1</td>\n",
              "      <td>0</td>\n",
              "      <td>0</td>\n",
              "      <td>11</td>\n",
              "      <td>18</td>\n",
              "      <td>2</td>\n",
              "      <td>1</td>\n",
              "      <td>0.231</td>\n",
              "    </tr>\n",
              "  </tbody>\n",
              "</table>\n",
              "<p>5 rows × 25 columns</p>\n",
              "</div>\n",
              "      <button class=\"colab-df-convert\" onclick=\"convertToInteractive('df-4fea0979-4300-4882-a70f-796e7142930a')\"\n",
              "              title=\"Convert this dataframe to an interactive table.\"\n",
              "              style=\"display:none;\">\n",
              "        \n",
              "  <svg xmlns=\"http://www.w3.org/2000/svg\" height=\"24px\"viewBox=\"0 0 24 24\"\n",
              "       width=\"24px\">\n",
              "    <path d=\"M0 0h24v24H0V0z\" fill=\"none\"/>\n",
              "    <path d=\"M18.56 5.44l.94 2.06.94-2.06 2.06-.94-2.06-.94-.94-2.06-.94 2.06-2.06.94zm-11 1L8.5 8.5l.94-2.06 2.06-.94-2.06-.94L8.5 2.5l-.94 2.06-2.06.94zm10 10l.94 2.06.94-2.06 2.06-.94-2.06-.94-.94-2.06-.94 2.06-2.06.94z\"/><path d=\"M17.41 7.96l-1.37-1.37c-.4-.4-.92-.59-1.43-.59-.52 0-1.04.2-1.43.59L10.3 9.45l-7.72 7.72c-.78.78-.78 2.05 0 2.83L4 21.41c.39.39.9.59 1.41.59.51 0 1.02-.2 1.41-.59l7.78-7.78 2.81-2.81c.8-.78.8-2.07 0-2.86zM5.41 20L4 18.59l7.72-7.72 1.47 1.35L5.41 20z\"/>\n",
              "  </svg>\n",
              "      </button>\n",
              "      \n",
              "  <style>\n",
              "    .colab-df-container {\n",
              "      display:flex;\n",
              "      flex-wrap:wrap;\n",
              "      gap: 12px;\n",
              "    }\n",
              "\n",
              "    .colab-df-convert {\n",
              "      background-color: #E8F0FE;\n",
              "      border: none;\n",
              "      border-radius: 50%;\n",
              "      cursor: pointer;\n",
              "      display: none;\n",
              "      fill: #1967D2;\n",
              "      height: 32px;\n",
              "      padding: 0 0 0 0;\n",
              "      width: 32px;\n",
              "    }\n",
              "\n",
              "    .colab-df-convert:hover {\n",
              "      background-color: #E2EBFA;\n",
              "      box-shadow: 0px 1px 2px rgba(60, 64, 67, 0.3), 0px 1px 3px 1px rgba(60, 64, 67, 0.15);\n",
              "      fill: #174EA6;\n",
              "    }\n",
              "\n",
              "    [theme=dark] .colab-df-convert {\n",
              "      background-color: #3B4455;\n",
              "      fill: #D2E3FC;\n",
              "    }\n",
              "\n",
              "    [theme=dark] .colab-df-convert:hover {\n",
              "      background-color: #434B5C;\n",
              "      box-shadow: 0px 1px 3px 1px rgba(0, 0, 0, 0.15);\n",
              "      filter: drop-shadow(0px 1px 2px rgba(0, 0, 0, 0.3));\n",
              "      fill: #FFFFFF;\n",
              "    }\n",
              "  </style>\n",
              "\n",
              "      <script>\n",
              "        const buttonEl =\n",
              "          document.querySelector('#df-4fea0979-4300-4882-a70f-796e7142930a button.colab-df-convert');\n",
              "        buttonEl.style.display =\n",
              "          google.colab.kernel.accessAllowed ? 'block' : 'none';\n",
              "\n",
              "        async function convertToInteractive(key) {\n",
              "          const element = document.querySelector('#df-4fea0979-4300-4882-a70f-796e7142930a');\n",
              "          const dataTable =\n",
              "            await google.colab.kernel.invokeFunction('convertToInteractive',\n",
              "                                                     [key], {});\n",
              "          if (!dataTable) return;\n",
              "\n",
              "          const docLinkHtml = 'Like what you see? Visit the ' +\n",
              "            '<a target=\"_blank\" href=https://colab.research.google.com/notebooks/data_table.ipynb>data table notebook</a>'\n",
              "            + ' to learn more about interactive tables.';\n",
              "          element.innerHTML = '';\n",
              "          dataTable['output_type'] = 'display_data';\n",
              "          await google.colab.output.renderOutput(dataTable, element);\n",
              "          const docLink = document.createElement('div');\n",
              "          docLink.innerHTML = docLinkHtml;\n",
              "          element.appendChild(docLink);\n",
              "        }\n",
              "      </script>\n",
              "    </div>\n",
              "  </div>\n",
              "  "
            ]
          },
          "metadata": {},
          "execution_count": 23
        }
      ]
    },
    {
      "cell_type": "code",
      "source": [
        "# Pairwise correlations/linear relationship between 2 batting statistics\n",
        "batting_stats.corr().round(4)"
      ],
      "metadata": {
        "id": "hozomp5ZomEL"
      },
      "execution_count": null,
      "outputs": []
    },
    {
      "cell_type": "markdown",
      "source": [
        "### **2. Predicting Runs Scored from Hits (Linear Regression Model)**"
      ],
      "metadata": {
        "id": "WtLVNOVtsuaS"
      }
    },
    {
      "cell_type": "code",
      "source": [
        "runs_hits = batting_stats[['H','R']]\n",
        "runs_hits = runs_hits.rename(columns={runs_hits.columns[0]:'hits', runs_hits.columns[1]:'runs'})\n",
        "# Correlation between Runs Scored and Hits\n",
        "print('Correlation Coefficient (R): ', runs_hits['runs'].corr(runs_hits['hits']))"
      ],
      "metadata": {
        "id": "vIkJizfZsyoW",
        "colab": {
          "base_uri": "https://localhost:8080/"
        },
        "outputId": "9f3d76d5-4704-453a-c504-6618c76df908"
      },
      "execution_count": null,
      "outputs": [
        {
          "output_type": "stream",
          "name": "stdout",
          "text": [
            "Correlation Coefficient (R):  0.8519450042677918\n"
          ]
        }
      ]
    },
    {
      "cell_type": "code",
      "source": [
        "# Scatter Plot\n",
        "x = runs_hits['hits']\n",
        "y = runs_hits['runs']\n",
        "plt.figure(figsize=(8, 6))\n",
        "plt.scatter(x=runs_hits['hits'], y=runs_hits['runs'])\n",
        "plt.xticks(range(0,25,2))\n",
        "plt.yticks(range(0,18,2))\n",
        "plt.xlabel(\"Hits\")\n",
        "plt.ylabel(\"Runs\")\n",
        "plt.title(\"Runs Scored from Hits\")\n",
        "a, b = np.polyfit(x, y, 1) #find line of best fit\n",
        "plt.plot(x, a*x+b, color='red', linestyle='dotted', linewidth=2) #add line of best fit to plot\n",
        "plt.text(2, 16, 'Line of Best Fit: y = ' + '{:.2f}'.format(b) + ' + {:.2f}'.format(a) + 'x', size=14) #add fitted regression equation to plot\n",
        "plt.show()"
      ],
      "metadata": {
        "id": "EIucoXUouEjF",
        "colab": {
          "base_uri": "https://localhost:8080/",
          "height": 404
        },
        "outputId": "1fc88bc5-4b09-4fd1-c8a9-9bec968ebacf"
      },
      "execution_count": null,
      "outputs": [
        {
          "output_type": "display_data",
          "data": {
            "text/plain": [
              "<Figure size 576x432 with 1 Axes>"
            ],
            "image/png": "[encoded data removed]"
          },
          "metadata": {
            "needs_background": "light"
          }
        }
      ]
    },
    {
      "cell_type": "markdown",
      "source": [
        "####**Linear Regression Model**"
      ],
      "metadata": {
        "id": "zb7jMDdZui22"
      }
    },
    {
      "cell_type": "code",
      "source": [
        "from pandas.core.common import random_state\n",
        "x = runs_hits['hits'].values.reshape(-1,1)\n",
        "y = runs_hits['runs'].values.reshape(-1,1)\n",
        "X_train, X_test, y_train, y_test = train_test_split(x, y, test_size = 0.2, random_state=0)\n",
        "print('Training Data Count: {}'.format(X_train.shape[0]))\n",
        "print('Testing Data Count: {}'.format(X_test.shape[0]))"
      ],
      "metadata": {
        "colab": {
          "base_uri": "https://localhost:8080/"
        },
        "id": "nvRZ0ShwtbKw",
        "outputId": "7d757aaa-4b10-4e1c-a555-dc929d9fec4e"
      },
      "execution_count": null,
      "outputs": [
        {
          "output_type": "stream",
          "name": "stdout",
          "text": [
            "Training Data Count: 40\n",
            "Testing Data Count: 11\n"
          ]
        }
      ]
    },
    {
      "cell_type": "code",
      "source": [
        "# Train Model\n",
        "model = LinearRegression() #create linear regression model\n",
        "model.fit(X_train, y_train) #training regression model\n",
        "model_int = str(model.intercept_).replace('[', '').replace(']', '') # convert np array to string\n",
        "model_coef = str(model.coef_).replace(' [', '').replace('[', '').replace(']', '').replace('] ','')\n",
        "print('Linear Regression Model Intercept: ', model_int)\n",
        "print('Linear Regression Model Slope: ', model_coef)"
      ],
      "metadata": {
        "id": "8pRk9CAExLXW",
        "colab": {
          "base_uri": "https://localhost:8080/"
        },
        "outputId": "750113fc-5db5-4424-d88c-95376971d1d8"
      },
      "execution_count": null,
      "outputs": [
        {
          "output_type": "stream",
          "name": "stdout",
          "text": [
            "Linear Regression Model Intercept:  -2.0893023\n",
            "Linear Regression Model Slope:  0.83077711\n"
          ]
        }
      ]
    },
    {
      "cell_type": "code",
      "source": [
        "# Test Model: Using model to make predictions\n",
        "prediction = model.predict(X_test)"
      ],
      "metadata": {
        "id": "4376SZOWykAw"
      },
      "execution_count": null,
      "outputs": []
    },
    {
      "cell_type": "code",
      "source": [
        "# Compare prediction values to actual values for X_test\n",
        "compare_df = pd.DataFrame({'Actual': y_test.flatten(), 'Predicted':prediction.flatten()})\n",
        "print(compare_df)\n",
        "\n",
        "# histogram of residuals (difference between actual and predicted value)\n",
        "plt.hist(y_test - prediction)\n",
        "plt.title(\"Histogram of Residual Values\") \n",
        "plt.xlabel(\"Residuals\")\n",
        "plt.ylabel(\"Frequency\")\n",
        "plt.show()"
      ],
      "metadata": {
        "id": "3WvIm67oztXs"
      },
      "execution_count": null,
      "outputs": []
    },
    {
      "cell_type": "code",
      "source": [
        "# Plotting linear regression model on top of actual values\n",
        "plt.figure(figsize=(8,6))\n",
        "plt.scatter(X_test, y_test, color = 'gray') # Actual Values\n",
        "plt.plot(X_test, prediction, color = 'red') # Predicted values\n",
        "plt.xticks(range(0,19,2))\n",
        "plt.yticks(range(0,13,2))\n",
        "plt.xlabel(\"Hits\")\n",
        "plt.ylabel(\"Runs\")\n",
        "plt.title(\"Actual vs. Predicted Runs Scored\")\n",
        "plt.text(1.5, 10.75, 'Model: y = ' + model_int + ' + ' + model_coef + 'x', size=14)\n",
        "plt.show()"
      ],
      "metadata": {
        "id": "BXYL6INy1WRb"
      },
      "execution_count": null,
      "outputs": []
    },
    {
      "cell_type": "code",
      "source": [
        "# Evaluating Performance of Model\n",
        "print('Coefficient of Determination (R^2):', r2_score(y_test, prediction))\n",
        "print('Mean Absolute Error: ', metrics.mean_absolute_error(y_test, prediction))\n",
        "print('Mean Squared Error: ', metrics.mean_squared_error(y_test, prediction))\n",
        "print('Root Mean Squared Error: ', np.sqrt(metrics.mean_squared_error(y_test, prediction)))"
      ],
      "metadata": {
        "colab": {
          "base_uri": "https://localhost:8080/"
        },
        "id": "vz096kh329aI",
        "outputId": "7bcc0948-5758-4bb1-eb04-452c91825be7"
      },
      "execution_count": null,
      "outputs": [
        {
          "output_type": "stream",
          "name": "stdout",
          "text": [
            "Coefficient of Determination (R^2): 0.6543095230074105\n",
            "Mean Absolute Error:  1.382102863995855\n",
            "Mean Squared Error:  3.456904769925895\n",
            "Root Mean Squared Error:  1.8592753346198876\n"
          ]
        }
      ]
    },
    {
      "cell_type": "markdown",
      "source": [
        "**User Input: Predict runs scored using model (run cell below)**"
      ],
      "metadata": {
        "id": "TvwuMgt-eX40"
      }
    },
    {
      "cell_type": "code",
      "source": [
        "# Predict runs scored using model\n",
        "hits = float(input('Enter number of hits: '))\n",
        "runs_scored = model.coef_ * hits + model.intercept_\n",
        "print('Predicted runs scored: ', str(runs_scored).replace(' [', '').replace('[', '').replace(']', '').replace('] ',''))"
      ],
      "metadata": {
        "id": "j9xq6CPbAv9A"
      },
      "execution_count": null,
      "outputs": []
    },
    {
      "cell_type": "markdown",
      "source": [
        "### **3. Win Percentage vs. Strikeouts per Game**"
      ],
      "metadata": {
        "id": "XAhQ7CCCjRaP"
      }
    },
    {
      "cell_type": "code",
      "source": [
        "# Grouping games by number of strikeouts\n",
        "low_k = batting_stats[batting_stats['K'].between(0,4)]\n",
        "med_k = batting_stats[batting_stats['K'].between(5,9)]\n",
        "high_k = batting_stats[batting_stats['K'].between(10,14)]\n",
        "low_k"
      ],
      "metadata": {
        "id": "HuGcGs_fjfyp",
        "colab": {
          "base_uri": "https://localhost:8080/",
          "height": 707
        },
        "outputId": "4f14e045-9aa2-452b-95c5-8f2644c92ae1"
      },
      "execution_count": null,
      "outputs": [
        {
          "output_type": "execute_result",
          "data": {
            "text/plain": [
              "         Date Location             Opponent  W/L Score  AB   R   H  RBI  2B  \\\n",
              "2  2019-02-16     Away            San Diego    0  9-15  35   9  14    9   0   \n",
              "12 2019-03-15     Home     MOUNT ST. MARY'S    0   5-6  35   5  10    5   1   \n",
              "13 2019-03-16     Home     MOUNT ST. MARY'S    1   9-8  32   9  11    9   3   \n",
              "16 2019-03-20     Home        SAINT PETER'S    1  13-3  42  13  18   13   3   \n",
              "17 2019-03-23     Away             Monmouth    1  13-4  42  13  16   12   5   \n",
              "21 2019-03-30     Away  Central Connecticut    1   4-2  31   4   4    2   1   \n",
              "22 2019-03-31     Away  Central Connecticut    0  3-10  36   3  11    3   3   \n",
              "26 2019-04-07     Away         Sacred Heart    1   5-4  36   5   8    4   1   \n",
              "27 2019-04-10     Home                RIDER    1   9-1  37   9  13    8   0   \n",
              "38 2019-04-28     Home               BRYANT    0   2-3  33   2   7    1   2   \n",
              "45 2019-05-16     Away  Fairleigh Dickinson    1  10-2  42  10  12   10   2   \n",
              "49 2019-05-24     Away         Sacred Heart    1  11-7  38  11  13   10   1   \n",
              "\n",
              "    ...  CS  HBP  SH  SF  GDP  K  PO   A  E    AVG  \n",
              "2   ...   0    0   1   3    0  4  24   7  3    0.4  \n",
              "12  ...   1    0   0   1    0  4  27   7  0  0.286  \n",
              "13  ...   0    1   0   2    1  4  27   9  4  0.344  \n",
              "16  ...   0    0   0   0    0  3  27  11  3  0.429  \n",
              "17  ...   1    1   0   2    0  4  27   5  0  0.381  \n",
              "21  ...   1    1   0   0    1  3  27  14  1  0.129  \n",
              "22  ...   1    0   0   0    0  3  24   8  1  0.306  \n",
              "26  ...   0    1   0   0    0  3  27  15  0  0.222  \n",
              "27  ...   1    1   1   0    0  4  27   7  1  0.351  \n",
              "38  ...   0    0   0   0    2  4  27  10  1  0.212  \n",
              "45  ...   0    0   0   0    1  4  27   8  0  0.286  \n",
              "49  ...   0    2   2   0    2  3  27   8  0  0.342  \n",
              "\n",
              "[12 rows x 25 columns]"
            ],
            "text/html": [
              "\n",
              "  <div id=\"df-02b78b48-5dba-4d8f-b6b3-1ca9775a57a1\">\n",
              "    <div class=\"colab-df-container\">\n",
              "      <div>\n",
              "<style scoped>\n",
              "    .dataframe tbody tr th:only-of-type {\n",
              "        vertical-align: middle;\n",
              "    }\n",
              "\n",
              "    .dataframe tbody tr th {\n",
              "        vertical-align: top;\n",
              "    }\n",
              "\n",
              "    .dataframe thead th {\n",
              "        text-align: right;\n",
              "    }\n",
              "</style>\n",
              "<table border=\"1\" class=\"dataframe\">\n",
              "  <thead>\n",
              "    <tr style=\"text-align: right;\">\n",
              "      <th></th>\n",
              "      <th>Date</th>\n",
              "      <th>Location</th>\n",
              "      <th>Opponent</th>\n",
              "      <th>W/L</th>\n",
              "      <th>Score</th>\n",
              "      <th>AB</th>\n",
              "      <th>R</th>\n",
              "      <th>H</th>\n",
              "      <th>RBI</th>\n",
              "      <th>2B</th>\n",
              "      <th>...</th>\n",
              "      <th>CS</th>\n",
              "      <th>HBP</th>\n",
              "      <th>SH</th>\n",
              "      <th>SF</th>\n",
              "      <th>GDP</th>\n",
              "      <th>K</th>\n",
              "      <th>PO</th>\n",
              "      <th>A</th>\n",
              "      <th>E</th>\n",
              "      <th>AVG</th>\n",
              "    </tr>\n",
              "  </thead>\n",
              "  <tbody>\n",
              "    <tr>\n",
              "      <th>2</th>\n",
              "      <td>2019-02-16</td>\n",
              "      <td>Away</td>\n",
              "      <td>San Diego</td>\n",
              "      <td>0</td>\n",
              "      <td>9-15</td>\n",
              "      <td>35</td>\n",
              "      <td>9</td>\n",
              "      <td>14</td>\n",
              "      <td>9</td>\n",
              "      <td>0</td>\n",
              "      <td>...</td>\n",
              "      <td>0</td>\n",
              "      <td>0</td>\n",
              "      <td>1</td>\n",
              "      <td>3</td>\n",
              "      <td>0</td>\n",
              "      <td>4</td>\n",
              "      <td>24</td>\n",
              "      <td>7</td>\n",
              "      <td>3</td>\n",
              "      <td>0.4</td>\n",
              "    </tr>\n",
              "    <tr>\n",
              "      <th>12</th>\n",
              "      <td>2019-03-15</td>\n",
              "      <td>Home</td>\n",
              "      <td>MOUNT ST. MARY'S</td>\n",
              "      <td>0</td>\n",
              "      <td>5-6</td>\n",
              "      <td>35</td>\n",
              "      <td>5</td>\n",
              "      <td>10</td>\n",
              "      <td>5</td>\n",
              "      <td>1</td>\n",
              "      <td>...</td>\n",
              "      <td>1</td>\n",
              "      <td>0</td>\n",
              "      <td>0</td>\n",
              "      <td>1</td>\n",
              "      <td>0</td>\n",
              "      <td>4</td>\n",
              "      <td>27</td>\n",
              "      <td>7</td>\n",
              "      <td>0</td>\n",
              "      <td>0.286</td>\n",
              "    </tr>\n",
              "    <tr>\n",
              "      <th>13</th>\n",
              "      <td>2019-03-16</td>\n",
              "      <td>Home</td>\n",
              "      <td>MOUNT ST. MARY'S</td>\n",
              "      <td>1</td>\n",
              "      <td>9-8</td>\n",
              "      <td>32</td>\n",
              "      <td>9</td>\n",
              "      <td>11</td>\n",
              "      <td>9</td>\n",
              "      <td>3</td>\n",
              "      <td>...</td>\n",
              "      <td>0</td>\n",
              "      <td>1</td>\n",
              "      <td>0</td>\n",
              "      <td>2</td>\n",
              "      <td>1</td>\n",
              "      <td>4</td>\n",
              "      <td>27</td>\n",
              "      <td>9</td>\n",
              "      <td>4</td>\n",
              "      <td>0.344</td>\n",
              "    </tr>\n",
              "    <tr>\n",
              "      <th>16</th>\n",
              "      <td>2019-03-20</td>\n",
              "      <td>Home</td>\n",
              "      <td>SAINT PETER'S</td>\n",
              "      <td>1</td>\n",
              "      <td>13-3</td>\n",
              "      <td>42</td>\n",
              "      <td>13</td>\n",
              "      <td>18</td>\n",
              "      <td>13</td>\n",
              "      <td>3</td>\n",
              "      <td>...</td>\n",
              "      <td>0</td>\n",
              "      <td>0</td>\n",
              "      <td>0</td>\n",
              "      <td>0</td>\n",
              "      <td>0</td>\n",
              "      <td>3</td>\n",
              "      <td>27</td>\n",
              "      <td>11</td>\n",
              "      <td>3</td>\n",
              "      <td>0.429</td>\n",
              "    </tr>\n",
              "    <tr>\n",
              "      <th>17</th>\n",
              "      <td>2019-03-23</td>\n",
              "      <td>Away</td>\n",
              "      <td>Monmouth</td>\n",
              "      <td>1</td>\n",
              "      <td>13-4</td>\n",
              "      <td>42</td>\n",
              "      <td>13</td>\n",
              "      <td>16</td>\n",
              "      <td>12</td>\n",
              "      <td>5</td>\n",
              "      <td>...</td>\n",
              "      <td>1</td>\n",
              "      <td>1</td>\n",
              "      <td>0</td>\n",
              "      <td>2</td>\n",
              "      <td>0</td>\n",
              "      <td>4</td>\n",
              "      <td>27</td>\n",
              "      <td>5</td>\n",
              "      <td>0</td>\n",
              "      <td>0.381</td>\n",
              "    </tr>\n",
              "    <tr>\n",
              "      <th>21</th>\n",
              "      <td>2019-03-30</td>\n",
              "      <td>Away</td>\n",
              "      <td>Central Connecticut</td>\n",
              "      <td>1</td>\n",
              "      <td>4-2</td>\n",
              "      <td>31</td>\n",
              "      <td>4</td>\n",
              "      <td>4</td>\n",
              "      <td>2</td>\n",
              "      <td>1</td>\n",
              "      <td>...</td>\n",
              "      <td>1</td>\n",
              "      <td>1</td>\n",
              "      <td>0</td>\n",
              "      <td>0</td>\n",
              "      <td>1</td>\n",
              "      <td>3</td>\n",
              "      <td>27</td>\n",
              "      <td>14</td>\n",
              "      <td>1</td>\n",
              "      <td>0.129</td>\n",
              "    </tr>\n",
              "    <tr>\n",
              "      <th>22</th>\n",
              "      <td>2019-03-31</td>\n",
              "      <td>Away</td>\n",
              "      <td>Central Connecticut</td>\n",
              "      <td>0</td>\n",
              "      <td>3-10</td>\n",
              "      <td>36</td>\n",
              "      <td>3</td>\n",
              "      <td>11</td>\n",
              "      <td>3</td>\n",
              "      <td>3</td>\n",
              "      <td>...</td>\n",
              "      <td>1</td>\n",
              "      <td>0</td>\n",
              "      <td>0</td>\n",
              "      <td>0</td>\n",
              "      <td>0</td>\n",
              "      <td>3</td>\n",
              "      <td>24</td>\n",
              "      <td>8</td>\n",
              "      <td>1</td>\n",
              "      <td>0.306</td>\n",
              "    </tr>\n",
              "    <tr>\n",
              "      <th>26</th>\n",
              "      <td>2019-04-07</td>\n",
              "      <td>Away</td>\n",
              "      <td>Sacred Heart</td>\n",
              "      <td>1</td>\n",
              "      <td>5-4</td>\n",
              "      <td>36</td>\n",
              "      <td>5</td>\n",
              "      <td>8</td>\n",
              "      <td>4</td>\n",
              "      <td>1</td>\n",
              "      <td>...</td>\n",
              "      <td>0</td>\n",
              "      <td>1</td>\n",
              "      <td>0</td>\n",
              "      <td>0</td>\n",
              "      <td>0</td>\n",
              "      <td>3</td>\n",
              "      <td>27</td>\n",
              "      <td>15</td>\n",
              "      <td>0</td>\n",
              "      <td>0.222</td>\n",
              "    </tr>\n",
              "    <tr>\n",
              "      <th>27</th>\n",
              "      <td>2019-04-10</td>\n",
              "      <td>Home</td>\n",
              "      <td>RIDER</td>\n",
              "      <td>1</td>\n",
              "      <td>9-1</td>\n",
              "      <td>37</td>\n",
              "      <td>9</td>\n",
              "      <td>13</td>\n",
              "      <td>8</td>\n",
              "      <td>0</td>\n",
              "      <td>...</td>\n",
              "      <td>1</td>\n",
              "      <td>1</td>\n",
              "      <td>1</td>\n",
              "      <td>0</td>\n",
              "      <td>0</td>\n",
              "      <td>4</td>\n",
              "      <td>27</td>\n",
              "      <td>7</td>\n",
              "      <td>1</td>\n",
              "      <td>0.351</td>\n",
              "    </tr>\n",
              "    <tr>\n",
              "      <th>38</th>\n",
              "      <td>2019-04-28</td>\n",
              "      <td>Home</td>\n",
              "      <td>BRYANT</td>\n",
              "      <td>0</td>\n",
              "      <td>2-3</td>\n",
              "      <td>33</td>\n",
              "      <td>2</td>\n",
              "      <td>7</td>\n",
              "      <td>1</td>\n",
              "      <td>2</td>\n",
              "      <td>...</td>\n",
              "      <td>0</td>\n",
              "      <td>0</td>\n",
              "      <td>0</td>\n",
              "      <td>0</td>\n",
              "      <td>2</td>\n",
              "      <td>4</td>\n",
              "      <td>27</td>\n",
              "      <td>10</td>\n",
              "      <td>1</td>\n",
              "      <td>0.212</td>\n",
              "    </tr>\n",
              "    <tr>\n",
              "      <th>45</th>\n",
              "      <td>2019-05-16</td>\n",
              "      <td>Away</td>\n",
              "      <td>Fairleigh Dickinson</td>\n",
              "      <td>1</td>\n",
              "      <td>10-2</td>\n",
              "      <td>42</td>\n",
              "      <td>10</td>\n",
              "      <td>12</td>\n",
              "      <td>10</td>\n",
              "      <td>2</td>\n",
              "      <td>...</td>\n",
              "      <td>0</td>\n",
              "      <td>0</td>\n",
              "      <td>0</td>\n",
              "      <td>0</td>\n",
              "      <td>1</td>\n",
              "      <td>4</td>\n",
              "      <td>27</td>\n",
              "      <td>8</td>\n",
              "      <td>0</td>\n",
              "      <td>0.286</td>\n",
              "    </tr>\n",
              "    <tr>\n",
              "      <th>49</th>\n",
              "      <td>2019-05-24</td>\n",
              "      <td>Away</td>\n",
              "      <td>Sacred Heart</td>\n",
              "      <td>1</td>\n",
              "      <td>11-7</td>\n",
              "      <td>38</td>\n",
              "      <td>11</td>\n",
              "      <td>13</td>\n",
              "      <td>10</td>\n",
              "      <td>1</td>\n",
              "      <td>...</td>\n",
              "      <td>0</td>\n",
              "      <td>2</td>\n",
              "      <td>2</td>\n",
              "      <td>0</td>\n",
              "      <td>2</td>\n",
              "      <td>3</td>\n",
              "      <td>27</td>\n",
              "      <td>8</td>\n",
              "      <td>0</td>\n",
              "      <td>0.342</td>\n",
              "    </tr>\n",
              "  </tbody>\n",
              "</table>\n",
              "<p>12 rows × 25 columns</p>\n",
              "</div>\n",
              "      <button class=\"colab-df-convert\" onclick=\"convertToInteractive('df-02b78b48-5dba-4d8f-b6b3-1ca9775a57a1')\"\n",
              "              title=\"Convert this dataframe to an interactive table.\"\n",
              "              style=\"display:none;\">\n",
              "        \n",
              "  <svg xmlns=\"http://www.w3.org/2000/svg\" height=\"24px\"viewBox=\"0 0 24 24\"\n",
              "       width=\"24px\">\n",
              "    <path d=\"M0 0h24v24H0V0z\" fill=\"none\"/>\n",
              "    <path d=\"M18.56 5.44l.94 2.06.94-2.06 2.06-.94-2.06-.94-.94-2.06-.94 2.06-2.06.94zm-11 1L8.5 8.5l.94-2.06 2.06-.94-2.06-.94L8.5 2.5l-.94 2.06-2.06.94zm10 10l.94 2.06.94-2.06 2.06-.94-2.06-.94-.94-2.06-.94 2.06-2.06.94z\"/><path d=\"M17.41 7.96l-1.37-1.37c-.4-.4-.92-.59-1.43-.59-.52 0-1.04.2-1.43.59L10.3 9.45l-7.72 7.72c-.78.78-.78 2.05 0 2.83L4 21.41c.39.39.9.59 1.41.59.51 0 1.02-.2 1.41-.59l7.78-7.78 2.81-2.81c.8-.78.8-2.07 0-2.86zM5.41 20L4 18.59l7.72-7.72 1.47 1.35L5.41 20z\"/>\n",
              "  </svg>\n",
              "      </button>\n",
              "      \n",
              "  <style>\n",
              "    .colab-df-container {\n",
              "      display:flex;\n",
              "      flex-wrap:wrap;\n",
              "      gap: 12px;\n",
              "    }\n",
              "\n",
              "    .colab-df-convert {\n",
              "      background-color: #E8F0FE;\n",
              "      border: none;\n",
              "      border-radius: 50%;\n",
              "      cursor: pointer;\n",
              "      display: none;\n",
              "      fill: #1967D2;\n",
              "      height: 32px;\n",
              "      padding: 0 0 0 0;\n",
              "      width: 32px;\n",
              "    }\n",
              "\n",
              "    .colab-df-convert:hover {\n",
              "      background-color: #E2EBFA;\n",
              "      box-shadow: 0px 1px 2px rgba(60, 64, 67, 0.3), 0px 1px 3px 1px rgba(60, 64, 67, 0.15);\n",
              "      fill: #174EA6;\n",
              "    }\n",
              "\n",
              "    [theme=dark] .colab-df-convert {\n",
              "      background-color: #3B4455;\n",
              "      fill: #D2E3FC;\n",
              "    }\n",
              "\n",
              "    [theme=dark] .colab-df-convert:hover {\n",
              "      background-color: #434B5C;\n",
              "      box-shadow: 0px 1px 3px 1px rgba(0, 0, 0, 0.15);\n",
              "      filter: drop-shadow(0px 1px 2px rgba(0, 0, 0, 0.3));\n",
              "      fill: #FFFFFF;\n",
              "    }\n",
              "  </style>\n",
              "\n",
              "      <script>\n",
              "        const buttonEl =\n",
              "          document.querySelector('#df-02b78b48-5dba-4d8f-b6b3-1ca9775a57a1 button.colab-df-convert');\n",
              "        buttonEl.style.display =\n",
              "          google.colab.kernel.accessAllowed ? 'block' : 'none';\n",
              "\n",
              "        async function convertToInteractive(key) {\n",
              "          const element = document.querySelector('#df-02b78b48-5dba-4d8f-b6b3-1ca9775a57a1');\n",
              "          const dataTable =\n",
              "            await google.colab.kernel.invokeFunction('convertToInteractive',\n",
              "                                                     [key], {});\n",
              "          if (!dataTable) return;\n",
              "\n",
              "          const docLinkHtml = 'Like what you see? Visit the ' +\n",
              "            '<a target=\"_blank\" href=https://colab.research.google.com/notebooks/data_table.ipynb>data table notebook</a>'\n",
              "            + ' to learn more about interactive tables.';\n",
              "          element.innerHTML = '';\n",
              "          dataTable['output_type'] = 'display_data';\n",
              "          await google.colab.output.renderOutput(dataTable, element);\n",
              "          const docLink = document.createElement('div');\n",
              "          docLink.innerHTML = docLinkHtml;\n",
              "          element.appendChild(docLink);\n",
              "        }\n",
              "      </script>\n",
              "    </div>\n",
              "  </div>\n",
              "  "
            ]
          },
          "metadata": {},
          "execution_count": 29
        }
      ]
    },
    {
      "cell_type": "code",
      "source": [
        "# Get winning percentage based on number of strikeouts\n",
        "low_k_perc = pd.DataFrame((low_k['W/L'].value_counts(normalize = True)))\n",
        "med_k_perc = pd.DataFrame((med_k['W/L'].value_counts(normalize = True)))\n",
        "high_k_perc = pd.DataFrame((high_k['W/L'].value_counts(normalize = True)))\n",
        "\n",
        "# Combining winning percentages for visualization\n",
        "k_win_perc = pd.concat([low_k_perc, med_k_perc, high_k_perc], axis = 1, ignore_index=True)\n",
        "k_win_perc = k_win_perc.rename(columns={k_win_perc.columns[0]:'0-4 K',k_win_perc.columns[1]:'5-9 K', k_win_perc.columns[2]:'10-14 K'},index = {0:'Loss',1:'Win'})\n",
        "k_win_perc"
      ],
      "metadata": {
        "id": "yK4Qp-ujoKDH",
        "colab": {
          "base_uri": "https://localhost:8080/",
          "height": 112
        },
        "outputId": "fd6c565a-c059-49a2-ff15-13752e405812"
      },
      "execution_count": null,
      "outputs": [
        {
          "output_type": "execute_result",
          "data": {
            "text/plain": [
              "         0-4 K     5-9 K  10-14 K\n",
              "Loss  0.333333  0.709677     0.75\n",
              "Win   0.666667  0.290323     0.25"
            ],
            "text/html": [
              "\n",
              "  <div id=\"df-590143d5-6a01-476b-93f8-b1d2385e926d\">\n",
              "    <div class=\"colab-df-container\">\n",
              "      <div>\n",
              "<style scoped>\n",
              "    .dataframe tbody tr th:only-of-type {\n",
              "        vertical-align: middle;\n",
              "    }\n",
              "\n",
              "    .dataframe tbody tr th {\n",
              "        vertical-align: top;\n",
              "    }\n",
              "\n",
              "    .dataframe thead th {\n",
              "        text-align: right;\n",
              "    }\n",
              "</style>\n",
              "<table border=\"1\" class=\"dataframe\">\n",
              "  <thead>\n",
              "    <tr style=\"text-align: right;\">\n",
              "      <th></th>\n",
              "      <th>0-4 K</th>\n",
              "      <th>5-9 K</th>\n",
              "      <th>10-14 K</th>\n",
              "    </tr>\n",
              "  </thead>\n",
              "  <tbody>\n",
              "    <tr>\n",
              "      <th>Loss</th>\n",
              "      <td>0.333333</td>\n",
              "      <td>0.709677</td>\n",
              "      <td>0.75</td>\n",
              "    </tr>\n",
              "    <tr>\n",
              "      <th>Win</th>\n",
              "      <td>0.666667</td>\n",
              "      <td>0.290323</td>\n",
              "      <td>0.25</td>\n",
              "    </tr>\n",
              "  </tbody>\n",
              "</table>\n",
              "</div>\n",
              "      <button class=\"colab-df-convert\" onclick=\"convertToInteractive('df-590143d5-6a01-476b-93f8-b1d2385e926d')\"\n",
              "              title=\"Convert this dataframe to an interactive table.\"\n",
              "              style=\"display:none;\">\n",
              "        \n",
              "  <svg xmlns=\"http://www.w3.org/2000/svg\" height=\"24px\"viewBox=\"0 0 24 24\"\n",
              "       width=\"24px\">\n",
              "    <path d=\"M0 0h24v24H0V0z\" fill=\"none\"/>\n",
              "    <path d=\"M18.56 5.44l.94 2.06.94-2.06 2.06-.94-2.06-.94-.94-2.06-.94 2.06-2.06.94zm-11 1L8.5 8.5l.94-2.06 2.06-.94-2.06-.94L8.5 2.5l-.94 2.06-2.06.94zm10 10l.94 2.06.94-2.06 2.06-.94-2.06-.94-.94-2.06-.94 2.06-2.06.94z\"/><path d=\"M17.41 7.96l-1.37-1.37c-.4-.4-.92-.59-1.43-.59-.52 0-1.04.2-1.43.59L10.3 9.45l-7.72 7.72c-.78.78-.78 2.05 0 2.83L4 21.41c.39.39.9.59 1.41.59.51 0 1.02-.2 1.41-.59l7.78-7.78 2.81-2.81c.8-.78.8-2.07 0-2.86zM5.41 20L4 18.59l7.72-7.72 1.47 1.35L5.41 20z\"/>\n",
              "  </svg>\n",
              "      </button>\n",
              "      \n",
              "  <style>\n",
              "    .colab-df-container {\n",
              "      display:flex;\n",
              "      flex-wrap:wrap;\n",
              "      gap: 12px;\n",
              "    }\n",
              "\n",
              "    .colab-df-convert {\n",
              "      background-color: #E8F0FE;\n",
              "      border: none;\n",
              "      border-radius: 50%;\n",
              "      cursor: pointer;\n",
              "      display: none;\n",
              "      fill: #1967D2;\n",
              "      height: 32px;\n",
              "      padding: 0 0 0 0;\n",
              "      width: 32px;\n",
              "    }\n",
              "\n",
              "    .colab-df-convert:hover {\n",
              "      background-color: #E2EBFA;\n",
              "      box-shadow: 0px 1px 2px rgba(60, 64, 67, 0.3), 0px 1px 3px 1px rgba(60, 64, 67, 0.15);\n",
              "      fill: #174EA6;\n",
              "    }\n",
              "\n",
              "    [theme=dark] .colab-df-convert {\n",
              "      background-color: #3B4455;\n",
              "      fill: #D2E3FC;\n",
              "    }\n",
              "\n",
              "    [theme=dark] .colab-df-convert:hover {\n",
              "      background-color: #434B5C;\n",
              "      box-shadow: 0px 1px 3px 1px rgba(0, 0, 0, 0.15);\n",
              "      filter: drop-shadow(0px 1px 2px rgba(0, 0, 0, 0.3));\n",
              "      fill: #FFFFFF;\n",
              "    }\n",
              "  </style>\n",
              "\n",
              "      <script>\n",
              "        const buttonEl =\n",
              "          document.querySelector('#df-590143d5-6a01-476b-93f8-b1d2385e926d button.colab-df-convert');\n",
              "        buttonEl.style.display =\n",
              "          google.colab.kernel.accessAllowed ? 'block' : 'none';\n",
              "\n",
              "        async function convertToInteractive(key) {\n",
              "          const element = document.querySelector('#df-590143d5-6a01-476b-93f8-b1d2385e926d');\n",
              "          const dataTable =\n",
              "            await google.colab.kernel.invokeFunction('convertToInteractive',\n",
              "                                                     [key], {});\n",
              "          if (!dataTable) return;\n",
              "\n",
              "          const docLinkHtml = 'Like what you see? Visit the ' +\n",
              "            '<a target=\"_blank\" href=https://colab.research.google.com/notebooks/data_table.ipynb>data table notebook</a>'\n",
              "            + ' to learn more about interactive tables.';\n",
              "          element.innerHTML = '';\n",
              "          dataTable['output_type'] = 'display_data';\n",
              "          await google.colab.output.renderOutput(dataTable, element);\n",
              "          const docLink = document.createElement('div');\n",
              "          docLink.innerHTML = docLinkHtml;\n",
              "          element.appendChild(docLink);\n",
              "        }\n",
              "      </script>\n",
              "    </div>\n",
              "  </div>\n",
              "  "
            ]
          },
          "metadata": {},
          "execution_count": 34
        }
      ]
    },
    {
      "cell_type": "code",
      "source": [
        "k_win_perc.plot(kind='bar')          \n",
        "plt.title('Winning Percentage vs. Number of Strikeouts')\n",
        "plt.xlabel('Number of Strikeouts')\n",
        "plt.ylabel('Winning Percentage')\n",
        "plt.show()"
      ],
      "metadata": {
        "id": "JZxozhJKyv2m",
        "colab": {
          "base_uri": "https://localhost:8080/",
          "height": 307
        },
        "outputId": "8d14da3d-e3e8-4826-caa9-b9c22134a7fe"
      },
      "execution_count": null,
      "outputs": [
        {
          "output_type": "display_data",
          "data": {
            "text/plain": [
              "<Figure size 432x288 with 1 Axes>"
            ],
            "image/png": "[encoded data removed]"
          },
          "metadata": {
            "needs_background": "light"
          }
        }
      ]
    },
    {
      "cell_type": "markdown",
      "source": [
        "### **4. Probability of Winning based on Number of Hits (Logistic Regression Model)**"
      ],
      "metadata": {
        "id": "EtBJNZxPE5Zq"
      }
    },
    {
      "cell_type": "code",
      "source": [
        "win_count = pd.DataFrame(batting_stats[batting_stats['W/L'] == 1].groupby('H')['W/L'].count()) # Number of wins per hit count\n",
        "hit_game_count = pd.DataFrame(batting_stats.groupby('H')['W/L'].count()) # Count of number of games by number of hits\n",
        "\n",
        "# Joining win_count and hit_game_count to find winning percentage per number of hits\n",
        "hit_win_perc = hit_game_count.merge(win_count, on= 'H', how='left')"
      ],
      "metadata": {
        "id": "X-0bz-BVFK6e",
        "colab": {
          "base_uri": "https://localhost:8080/",
          "height": 582
        },
        "outputId": "cadfda70-2e23-434f-a87c-280c5d7b07ef"
      },
      "execution_count": null,
      "outputs": [
        {
          "output_type": "execute_result",
          "data": {
            "text/plain": [
              "    W/L_x  W/L_y\n",
              "H               \n",
              "1       1    NaN\n",
              "2       1    NaN\n",
              "4       4    1.0\n",
              "5       4    NaN\n",
              "6       3    NaN\n",
              "7       6    2.0\n",
              "8       7    3.0\n",
              "9       1    NaN\n",
              "10      3    NaN\n",
              "11      6    3.0\n",
              "12      4    1.0\n",
              "13      4    4.0\n",
              "14      2    1.0\n",
              "16      3    2.0\n",
              "18      1    1.0\n",
              "23      1    1.0"
            ],
            "text/html": [
              "\n",
              "  <div id=\"df-aeae3bcf-4b7d-4615-a7b5-9f389ef02ef2\">\n",
              "    <div class=\"colab-df-container\">\n",
              "      <div>\n",
              "<style scoped>\n",
              "    .dataframe tbody tr th:only-of-type {\n",
              "        vertical-align: middle;\n",
              "    }\n",
              "\n",
              "    .dataframe tbody tr th {\n",
              "        vertical-align: top;\n",
              "    }\n",
              "\n",
              "    .dataframe thead th {\n",
              "        text-align: right;\n",
              "    }\n",
              "</style>\n",
              "<table border=\"1\" class=\"dataframe\">\n",
              "  <thead>\n",
              "    <tr style=\"text-align: right;\">\n",
              "      <th></th>\n",
              "      <th>W/L_x</th>\n",
              "      <th>W/L_y</th>\n",
              "    </tr>\n",
              "    <tr>\n",
              "      <th>H</th>\n",
              "      <th></th>\n",
              "      <th></th>\n",
              "    </tr>\n",
              "  </thead>\n",
              "  <tbody>\n",
              "    <tr>\n",
              "      <th>1</th>\n",
              "      <td>1</td>\n",
              "      <td>NaN</td>\n",
              "    </tr>\n",
              "    <tr>\n",
              "      <th>2</th>\n",
              "      <td>1</td>\n",
              "      <td>NaN</td>\n",
              "    </tr>\n",
              "    <tr>\n",
              "      <th>4</th>\n",
              "      <td>4</td>\n",
              "      <td>1.0</td>\n",
              "    </tr>\n",
              "    <tr>\n",
              "      <th>5</th>\n",
              "      <td>4</td>\n",
              "      <td>NaN</td>\n",
              "    </tr>\n",
              "    <tr>\n",
              "      <th>6</th>\n",
              "      <td>3</td>\n",
              "      <td>NaN</td>\n",
              "    </tr>\n",
              "    <tr>\n",
              "      <th>7</th>\n",
              "      <td>6</td>\n",
              "      <td>2.0</td>\n",
              "    </tr>\n",
              "    <tr>\n",
              "      <th>8</th>\n",
              "      <td>7</td>\n",
              "      <td>3.0</td>\n",
              "    </tr>\n",
              "    <tr>\n",
              "      <th>9</th>\n",
              "      <td>1</td>\n",
              "      <td>NaN</td>\n",
              "    </tr>\n",
              "    <tr>\n",
              "      <th>10</th>\n",
              "      <td>3</td>\n",
              "      <td>NaN</td>\n",
              "    </tr>\n",
              "    <tr>\n",
              "      <th>11</th>\n",
              "      <td>6</td>\n",
              "      <td>3.0</td>\n",
              "    </tr>\n",
              "    <tr>\n",
              "      <th>12</th>\n",
              "      <td>4</td>\n",
              "      <td>1.0</td>\n",
              "    </tr>\n",
              "    <tr>\n",
              "      <th>13</th>\n",
              "      <td>4</td>\n",
              "      <td>4.0</td>\n",
              "    </tr>\n",
              "    <tr>\n",
              "      <th>14</th>\n",
              "      <td>2</td>\n",
              "      <td>1.0</td>\n",
              "    </tr>\n",
              "    <tr>\n",
              "      <th>16</th>\n",
              "      <td>3</td>\n",
              "      <td>2.0</td>\n",
              "    </tr>\n",
              "    <tr>\n",
              "      <th>18</th>\n",
              "      <td>1</td>\n",
              "      <td>1.0</td>\n",
              "    </tr>\n",
              "    <tr>\n",
              "      <th>23</th>\n",
              "      <td>1</td>\n",
              "      <td>1.0</td>\n",
              "    </tr>\n",
              "  </tbody>\n",
              "</table>\n",
              "</div>\n",
              "      <button class=\"colab-df-convert\" onclick=\"convertToInteractive('df-aeae3bcf-4b7d-4615-a7b5-9f389ef02ef2')\"\n",
              "              title=\"Convert this dataframe to an interactive table.\"\n",
              "              style=\"display:none;\">\n",
              "        \n",
              "  <svg xmlns=\"http://www.w3.org/2000/svg\" height=\"24px\"viewBox=\"0 0 24 24\"\n",
              "       width=\"24px\">\n",
              "    <path d=\"M0 0h24v24H0V0z\" fill=\"none\"/>\n",
              "    <path d=\"M18.56 5.44l.94 2.06.94-2.06 2.06-.94-2.06-.94-.94-2.06-.94 2.06-2.06.94zm-11 1L8.5 8.5l.94-2.06 2.06-.94-2.06-.94L8.5 2.5l-.94 2.06-2.06.94zm10 10l.94 2.06.94-2.06 2.06-.94-2.06-.94-.94-2.06-.94 2.06-2.06.94z\"/><path d=\"M17.41 7.96l-1.37-1.37c-.4-.4-.92-.59-1.43-.59-.52 0-1.04.2-1.43.59L10.3 9.45l-7.72 7.72c-.78.78-.78 2.05 0 2.83L4 21.41c.39.39.9.59 1.41.59.51 0 1.02-.2 1.41-.59l7.78-7.78 2.81-2.81c.8-.78.8-2.07 0-2.86zM5.41 20L4 18.59l7.72-7.72 1.47 1.35L5.41 20z\"/>\n",
              "  </svg>\n",
              "      </button>\n",
              "      \n",
              "  <style>\n",
              "    .colab-df-container {\n",
              "      display:flex;\n",
              "      flex-wrap:wrap;\n",
              "      gap: 12px;\n",
              "    }\n",
              "\n",
              "    .colab-df-convert {\n",
              "      background-color: #E8F0FE;\n",
              "      border: none;\n",
              "      border-radius: 50%;\n",
              "      cursor: pointer;\n",
              "      display: none;\n",
              "      fill: #1967D2;\n",
              "      height: 32px;\n",
              "      padding: 0 0 0 0;\n",
              "      width: 32px;\n",
              "    }\n",
              "\n",
              "    .colab-df-convert:hover {\n",
              "      background-color: #E2EBFA;\n",
              "      box-shadow: 0px 1px 2px rgba(60, 64, 67, 0.3), 0px 1px 3px 1px rgba(60, 64, 67, 0.15);\n",
              "      fill: #174EA6;\n",
              "    }\n",
              "\n",
              "    [theme=dark] .colab-df-convert {\n",
              "      background-color: #3B4455;\n",
              "      fill: #D2E3FC;\n",
              "    }\n",
              "\n",
              "    [theme=dark] .colab-df-convert:hover {\n",
              "      background-color: #434B5C;\n",
              "      box-shadow: 0px 1px 3px 1px rgba(0, 0, 0, 0.15);\n",
              "      filter: drop-shadow(0px 1px 2px rgba(0, 0, 0, 0.3));\n",
              "      fill: #FFFFFF;\n",
              "    }\n",
              "  </style>\n",
              "\n",
              "      <script>\n",
              "        const buttonEl =\n",
              "          document.querySelector('#df-aeae3bcf-4b7d-4615-a7b5-9f389ef02ef2 button.colab-df-convert');\n",
              "        buttonEl.style.display =\n",
              "          google.colab.kernel.accessAllowed ? 'block' : 'none';\n",
              "\n",
              "        async function convertToInteractive(key) {\n",
              "          const element = document.querySelector('#df-aeae3bcf-4b7d-4615-a7b5-9f389ef02ef2');\n",
              "          const dataTable =\n",
              "            await google.colab.kernel.invokeFunction('convertToInteractive',\n",
              "                                                     [key], {});\n",
              "          if (!dataTable) return;\n",
              "\n",
              "          const docLinkHtml = 'Like what you see? Visit the ' +\n",
              "            '<a target=\"_blank\" href=https://colab.research.google.com/notebooks/data_table.ipynb>data table notebook</a>'\n",
              "            + ' to learn more about interactive tables.';\n",
              "          element.innerHTML = '';\n",
              "          dataTable['output_type'] = 'display_data';\n",
              "          await google.colab.output.renderOutput(dataTable, element);\n",
              "          const docLink = document.createElement('div');\n",
              "          docLink.innerHTML = docLinkHtml;\n",
              "          element.appendChild(docLink);\n",
              "        }\n",
              "      </script>\n",
              "    </div>\n",
              "  </div>\n",
              "  "
            ]
          },
          "metadata": {},
          "execution_count": 40
        }
      ]
    },
    {
      "cell_type": "code",
      "source": [
        "hit_win_perc = hit_win_perc.rename(columns={hit_win_perc.columns[0]:'total_games', hit_win_perc.columns[1]:'wins'})\n",
        "hit_win_perc['wins'] = hit_win_perc['wins'].fillna(0)\n",
        "hit_win_perc['win_percentage'] = (hit_win_perc['wins']/hit_win_perc['total_games']).round(3) * 100"
      ],
      "metadata": {
        "id": "o89fTviqLbe6"
      },
      "execution_count": null,
      "outputs": []
    },
    {
      "cell_type": "code",
      "source": [
        "hit_win_perc = hit_win_perc.reset_index()\n",
        "hit_win_perc = hit_win_perc.rename(columns={hit_win_perc.columns[0]:'hits'})\n",
        "print(hit_win_perc)"
      ],
      "metadata": {
        "id": "8awx5XnlROC5",
        "colab": {
          "base_uri": "https://localhost:8080/"
        },
        "outputId": "8138f5f2-384b-41d1-f6a0-30467856af5c"
      },
      "execution_count": null,
      "outputs": [
        {
          "output_type": "stream",
          "name": "stdout",
          "text": [
            "    hits  total_games  wins  win_percentage\n",
            "0      1            1   0.0             0.0\n",
            "1      2            1   0.0             0.0\n",
            "2      4            4   1.0            25.0\n",
            "3      5            4   0.0             0.0\n",
            "4      6            3   0.0             0.0\n",
            "5      7            6   2.0            33.3\n",
            "6      8            7   3.0            42.9\n",
            "7      9            1   0.0             0.0\n",
            "8     10            3   0.0             0.0\n",
            "9     11            6   3.0            50.0\n",
            "10    12            4   1.0            25.0\n",
            "11    13            4   4.0           100.0\n",
            "12    14            2   1.0            50.0\n",
            "13    16            3   2.0            66.7\n",
            "14    18            1   1.0           100.0\n",
            "15    23            1   1.0           100.0\n"
          ]
        }
      ]
    },
    {
      "cell_type": "code",
      "source": [
        "plt.figure(figsize=(10, 5))\n",
        "plt.bar(hit_win_perc['hits'], hit_win_perc['win_percentage'])\n",
        "plt.xticks(range(25))\n",
        "plt.title('Winning Percentage vs. Number of Hits')\n",
        "plt.xlabel('Number of Hits')\n",
        "plt.ylabel('Winning Percentage')\n",
        "plt.show()"
      ],
      "metadata": {
        "id": "wpMAyVDFUadu",
        "colab": {
          "base_uri": "https://localhost:8080/",
          "height": 350
        },
        "outputId": "c99ae846-038c-4be0-a3ca-24995b5d42fb"
      },
      "execution_count": null,
      "outputs": [
        {
          "output_type": "display_data",
          "data": {
            "text/plain": [
              "<Figure size 720x360 with 1 Axes>"
            ],
            "image/png": "[encoded data removed]"
          },
          "metadata": {
            "needs_background": "light"
          }
        }
      ]
    },
    {
      "cell_type": "markdown",
      "source": [
        "####**Logistic Regression Model**"
      ],
      "metadata": {
        "id": "NWskxIjs6zXW"
      }
    },
    {
      "cell_type": "code",
      "source": [
        "X = batting_stats['H'].values.reshape(-1,1)\n",
        "y = batting_stats['W/L'].values.reshape(-1,1)\n",
        "# Splitting data into training and testing set\n",
        "X_train, X_test, y_train, y_test = train_test_split(X, y, test_size=0.3, random_state=0)\n",
        "print('Training Data Count: {}'.format(X_train.shape[0]))\n",
        "print('Testing Data Count: {}'.format(X_test.shape[0]))"
      ],
      "metadata": {
        "id": "-fc-zmoM64Vu",
        "colab": {
          "base_uri": "https://localhost:8080/"
        },
        "outputId": "b174aaf1-7994-4143-a6e1-098b5799e468"
      },
      "execution_count": null,
      "outputs": [
        {
          "output_type": "stream",
          "name": "stdout",
          "text": [
            "Training Data Count: 35\n",
            "Testing Data Count: 16\n"
          ]
        }
      ]
    },
    {
      "cell_type": "code",
      "source": [
        "# Train Model\n",
        "log_model = LogisticRegression()\n",
        "log_model.fit(X_train, y_train)"
      ],
      "metadata": {
        "id": "8_tKGprP-J8v",
        "colab": {
          "base_uri": "https://localhost:8080/"
        },
        "outputId": "e7b395a2-94f9-4b64-d837-917344d23953"
      },
      "execution_count": null,
      "outputs": [
        {
          "output_type": "stream",
          "name": "stderr",
          "text": [
            "/usr/local/lib/python3.8/dist-packages/sklearn/utils/validation.py:993: DataConversionWarning: A column-vector y was passed when a 1d array was expected. Please change the shape of y to (n_samples, ), for example using ravel().\n",
            "  y = column_or_1d(y, warn=True)\n"
          ]
        },
        {
          "output_type": "execute_result",
          "data": {
            "text/plain": [
              "LogisticRegression()"
            ]
          },
          "metadata": {},
          "execution_count": 45
        }
      ]
    },
    {
      "cell_type": "code",
      "source": [
        "# Test Model: Using model to make predictions\n",
        "log_prediction = log_model.predict(X_test)\n",
        "print(log_prediction)\n",
        "print(log_model.predict_proba(X_test))"
      ],
      "metadata": {
        "id": "Ofop0HBp-vvC",
        "colab": {
          "base_uri": "https://localhost:8080/"
        },
        "outputId": "dffadbd6-7de1-4a0a-ab8c-0418198a38cf"
      },
      "execution_count": null,
      "outputs": [
        {
          "output_type": "stream",
          "name": "stdout",
          "text": [
            "[0 0 0 0 1 1 1 1 0 0 1 0 1 0 1 0]\n",
            "[[0.94738477 0.05261523]\n",
            " [0.85270899 0.14729101]\n",
            " [0.56047401 0.43952599]\n",
            " [0.56047401 0.43952599]\n",
            " [0.29077861 0.70922139]\n",
            " [0.4662652  0.5337348 ]\n",
            " [0.4662652  0.5337348 ]\n",
            " [0.37440268 0.62559732]\n",
            " [0.79863383 0.20136617]\n",
            " [0.89418672 0.10581328]\n",
            " [0.16137043 0.83862957]\n",
            " [0.92501134 0.07498866]\n",
            " [0.37440268 0.62559732]\n",
            " [0.79863383 0.20136617]\n",
            " [0.37440268 0.62559732]\n",
            " [0.56047401 0.43952599]]\n"
          ]
        }
      ]
    },
    {
      "cell_type": "code",
      "source": [
        "# Confusion Matrix and F-score\n",
        "from sklearn.metrics import confusion_matrix\n",
        "from sklearn.metrics import f1_score\n",
        "from sklearn.metrics import classification_report\n",
        "conf_matrix = confusion_matrix(y_test, log_prediction)\n",
        "print(conf_matrix)\n",
        "print('F-score: ', f1_score(y_test,log_prediction)) # Accuracy of Model\n",
        "print('Classification report : \\n', classification_report(y_test,log_prediction,labels=[1,0]))"
      ],
      "metadata": {
        "id": "LVSKh2GqAp8i",
        "colab": {
          "base_uri": "https://localhost:8080/"
        },
        "outputId": "1dbecfdb-3769-48c4-d6e5-bc1975e2be2a"
      },
      "execution_count": null,
      "outputs": [
        {
          "output_type": "stream",
          "name": "stdout",
          "text": [
            "[[5 3]\n",
            " [4 4]]\n",
            "F-score:  0.5333333333333333\n",
            "Classification report : \n",
            "               precision    recall  f1-score   support\n",
            "\n",
            "           1       0.57      0.50      0.53         8\n",
            "           0       0.56      0.62      0.59         8\n",
            "\n",
            "    accuracy                           0.56        16\n",
            "   macro avg       0.56      0.56      0.56        16\n",
            "weighted avg       0.56      0.56      0.56        16\n",
            "\n"
          ]
        }
      ]
    },
    {
      "cell_type": "markdown",
      "source": [
        "### **5. Probability of Winning if there is >= 1 Homerun (Logistic Regression Model)**"
      ],
      "metadata": {
        "id": "EuKa9VgDa3iT"
      }
    },
    {
      "cell_type": "code",
      "source": [
        "wins_with_HR = batting_stats[(batting_stats['HR'] != 0) & (batting_stats['W/L'] == 1)].count()['W/L']\n",
        "games_with_HR = batting_stats[batting_stats['HR'] != 0].count()['W/L']\n",
        "win_perc_HR = (wins_with_HR / games_with_HR) * 100\n",
        "print('Winning percentage when team hits HR: ', round(win_perc_HR,2))\n",
        "\n",
        "wins_wout_HR = batting_stats[(batting_stats['HR'] == 0) & (batting_stats['W/L'] == 1)].count()['W/L']\n",
        "games_wout_HR = batting_stats[batting_stats['HR'] == 0].count()['W/L']\n",
        "win_perc_wout_HR = (wins_wout_HR / games_wout_HR) * 100\n",
        "print(\"Winning percentage when team doesn't hit HR: \", win_perc_wout_HR)"
      ],
      "metadata": {
        "colab": {
          "base_uri": "https://localhost:8080/"
        },
        "id": "OAQKnJWybI-K",
        "outputId": "d6728745-fb62-48b4-adfc-e350304ead3b"
      },
      "execution_count": null,
      "outputs": [
        {
          "output_type": "stream",
          "name": "stdout",
          "text": [
            "Winning percentage when team hits HR:  68.42\n",
            "Winning percentage when team doesn't hit HR:  18.75\n"
          ]
        }
      ]
    },
    {
      "cell_type": "markdown",
      "source": [
        "####**Logistic Regression Model**"
      ],
      "metadata": {
        "id": "h7fgE1Gv3bAY"
      }
    },
    {
      "cell_type": "code",
      "source": [
        "# Converting HR to binary (0 = no HR, 1 = at least 1 HR)\n",
        "hr_df = batting_stats.copy()\n",
        "hr_df['morethan_0_HR'] = hr_df['HR']\n",
        "hr_df['morethan_0_HR'] = np.where(hr_df['morethan_0_HR'] > 0, 1, hr_df['morethan_0_HR'])\n"
      ],
      "metadata": {
        "id": "G3hHYuTB64jd"
      },
      "execution_count": null,
      "outputs": []
    },
    {
      "cell_type": "code",
      "source": [
        "X = hr_df['morethan_0_HR'].values.reshape(-1,1)\n",
        "y = hr_df['W/L'].values.reshape(-1,1)\n",
        "X_train, X_test, y_train, y_test = train_test_split(X, y, test_size=0.25, random_state=0)\n",
        "print('Training Data Count: {}'.format(X_train.shape[0]))\n",
        "print('Testing Data Count: {}'.format(X_test.shape[0]))"
      ],
      "metadata": {
        "colab": {
          "base_uri": "https://localhost:8080/"
        },
        "id": "poVNtBkGhdiP",
        "outputId": "723bdb6e-a40f-4a0d-dd44-5fb5a9cd3f0d"
      },
      "execution_count": null,
      "outputs": [
        {
          "output_type": "stream",
          "name": "stdout",
          "text": [
            "Training Data Count: 38\n",
            "Testing Data Count: 13\n"
          ]
        }
      ]
    },
    {
      "cell_type": "code",
      "source": [
        "# Train model\n",
        "logreg = LogisticRegression()\n",
        "logreg.fit(X_train, y_train)"
      ],
      "metadata": {
        "id": "DbrKAdSt-x5Y"
      },
      "execution_count": null,
      "outputs": []
    },
    {
      "cell_type": "code",
      "source": [
        "# Test model\n",
        "log_pred = logreg.predict(X_test)\n",
        "print(log_pred)\n",
        "print(log_model.predict_proba(X_test))"
      ],
      "metadata": {
        "id": "GuDVOsTgWyuR"
      },
      "execution_count": null,
      "outputs": []
    },
    {
      "cell_type": "code",
      "source": [
        "# Confusion Matrix and F-score\n",
        "from sklearn.metrics import confusion_matrix\n",
        "from sklearn.metrics import f1_score\n",
        "from sklearn.metrics import classification_report\n",
        "conf_matrix = confusion_matrix(y_test, log_pred)\n",
        "print(conf_matrix)\n",
        "print('F-score: ', f1_score(y_test,log_pred)) # Accuracy of Model\n",
        "print('Classification report : \\n', classification_report(y_test,log_pred,labels=[1,0]))"
      ],
      "metadata": {
        "id": "d6uQADBMEGfn"
      },
      "execution_count": null,
      "outputs": []
    }
  ]
}